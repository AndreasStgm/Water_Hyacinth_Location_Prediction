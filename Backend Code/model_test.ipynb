{
 "cells": [
  {
   "cell_type": "code",
   "execution_count": 240,
   "metadata": {},
   "outputs": [],
   "source": [
    "import pandas as pd\n",
    "import numpy as np\n",
    "\n",
    "import warnings\n",
    "warnings.filterwarnings(\"ignore\")"
   ]
  },
  {
   "cell_type": "markdown",
   "metadata": {},
   "source": [
    "#### 1. Loading in our data"
   ]
  },
  {
   "cell_type": "code",
   "execution_count": 241,
   "metadata": {},
   "outputs": [],
   "source": [
    "weather_df: pd.DataFrame = pd.read_feather(\"./training_data/processed_data/preprocessed_weather_hartbeespoort.feather\")\n",
    "images_df: pd.DataFrame = pd.read_feather(\"./training_data/processed_data/preprocessed_image_hartbeespoort.feather\")"
   ]
  },
  {
   "cell_type": "code",
   "execution_count": 242,
   "metadata": {},
   "outputs": [
    {
     "data": {
      "text/html": [
       "<div>\n",
       "<style scoped>\n",
       "    .dataframe tbody tr th:only-of-type {\n",
       "        vertical-align: middle;\n",
       "    }\n",
       "\n",
       "    .dataframe tbody tr th {\n",
       "        vertical-align: top;\n",
       "    }\n",
       "\n",
       "    .dataframe thead th {\n",
       "        text-align: right;\n",
       "    }\n",
       "</style>\n",
       "<table border=\"1\" class=\"dataframe\">\n",
       "  <thead>\n",
       "    <tr style=\"text-align: right;\">\n",
       "      <th></th>\n",
       "      <th>windspeed</th>\n",
       "      <th>winddir</th>\n",
       "    </tr>\n",
       "    <tr>\n",
       "      <th>datetime</th>\n",
       "      <th></th>\n",
       "      <th></th>\n",
       "    </tr>\n",
       "  </thead>\n",
       "  <tbody>\n",
       "    <tr>\n",
       "      <th>2021-01-04</th>\n",
       "      <td>18.4</td>\n",
       "      <td>292.2</td>\n",
       "    </tr>\n",
       "    <tr>\n",
       "      <th>2021-01-09</th>\n",
       "      <td>15.4</td>\n",
       "      <td>330.5</td>\n",
       "    </tr>\n",
       "    <tr>\n",
       "      <th>2021-01-21</th>\n",
       "      <td>21.7</td>\n",
       "      <td>85.6</td>\n",
       "    </tr>\n",
       "    <tr>\n",
       "      <th>2021-02-10</th>\n",
       "      <td>13.6</td>\n",
       "      <td>46.0</td>\n",
       "    </tr>\n",
       "    <tr>\n",
       "      <th>2021-02-13</th>\n",
       "      <td>16.6</td>\n",
       "      <td>117.2</td>\n",
       "    </tr>\n",
       "    <tr>\n",
       "      <th>...</th>\n",
       "      <td>...</td>\n",
       "      <td>...</td>\n",
       "    </tr>\n",
       "    <tr>\n",
       "      <th>2024-05-10</th>\n",
       "      <td>14.8</td>\n",
       "      <td>320.4</td>\n",
       "    </tr>\n",
       "    <tr>\n",
       "      <th>2024-05-13</th>\n",
       "      <td>13.9</td>\n",
       "      <td>29.4</td>\n",
       "    </tr>\n",
       "    <tr>\n",
       "      <th>2024-05-15</th>\n",
       "      <td>16.4</td>\n",
       "      <td>183.5</td>\n",
       "    </tr>\n",
       "    <tr>\n",
       "      <th>2024-05-18</th>\n",
       "      <td>11.6</td>\n",
       "      <td>218.0</td>\n",
       "    </tr>\n",
       "    <tr>\n",
       "      <th>2024-05-20</th>\n",
       "      <td>12.9</td>\n",
       "      <td>288.7</td>\n",
       "    </tr>\n",
       "  </tbody>\n",
       "</table>\n",
       "<p>319 rows × 2 columns</p>\n",
       "</div>"
      ],
      "text/plain": [
       "            windspeed  winddir\n",
       "datetime                      \n",
       "2021-01-04       18.4    292.2\n",
       "2021-01-09       15.4    330.5\n",
       "2021-01-21       21.7     85.6\n",
       "2021-02-10       13.6     46.0\n",
       "2021-02-13       16.6    117.2\n",
       "...               ...      ...\n",
       "2024-05-10       14.8    320.4\n",
       "2024-05-13       13.9     29.4\n",
       "2024-05-15       16.4    183.5\n",
       "2024-05-18       11.6    218.0\n",
       "2024-05-20       12.9    288.7\n",
       "\n",
       "[319 rows x 2 columns]"
      ]
     },
     "execution_count": 242,
     "metadata": {},
     "output_type": "execute_result"
    }
   ],
   "source": [
    "weather_df"
   ]
  },
  {
   "cell_type": "code",
   "execution_count": 243,
   "metadata": {},
   "outputs": [
    {
     "data": {
      "text/html": [
       "<div>\n",
       "<style scoped>\n",
       "    .dataframe tbody tr th:only-of-type {\n",
       "        vertical-align: middle;\n",
       "    }\n",
       "\n",
       "    .dataframe tbody tr th {\n",
       "        vertical-align: top;\n",
       "    }\n",
       "\n",
       "    .dataframe thead th {\n",
       "        text-align: right;\n",
       "    }\n",
       "</style>\n",
       "<table border=\"1\" class=\"dataframe\">\n",
       "  <thead>\n",
       "    <tr style=\"text-align: right;\">\n",
       "      <th></th>\n",
       "      <th>center_x_1</th>\n",
       "      <th>center_y_1</th>\n",
       "      <th>x_axis_length_1</th>\n",
       "      <th>y_axis_length_1</th>\n",
       "      <th>angle_1</th>\n",
       "      <th>center_x_2</th>\n",
       "      <th>center_y_2</th>\n",
       "      <th>x_axis_length_2</th>\n",
       "      <th>y_axis_length_2</th>\n",
       "      <th>angle_2</th>\n",
       "      <th>center_x_3</th>\n",
       "      <th>center_y_3</th>\n",
       "      <th>x_axis_length_3</th>\n",
       "      <th>y_axis_length_3</th>\n",
       "      <th>angle_3</th>\n",
       "    </tr>\n",
       "    <tr>\n",
       "      <th>datetime</th>\n",
       "      <th></th>\n",
       "      <th></th>\n",
       "      <th></th>\n",
       "      <th></th>\n",
       "      <th></th>\n",
       "      <th></th>\n",
       "      <th></th>\n",
       "      <th></th>\n",
       "      <th></th>\n",
       "      <th></th>\n",
       "      <th></th>\n",
       "      <th></th>\n",
       "      <th></th>\n",
       "      <th></th>\n",
       "      <th></th>\n",
       "    </tr>\n",
       "  </thead>\n",
       "  <tbody>\n",
       "    <tr>\n",
       "      <th>2021-01-04</th>\n",
       "      <td>704.028564</td>\n",
       "      <td>442.499176</td>\n",
       "      <td>121.826691</td>\n",
       "      <td>451.231567</td>\n",
       "      <td>58.160427</td>\n",
       "      <td>960.999756</td>\n",
       "      <td>336.523529</td>\n",
       "      <td>112.876732</td>\n",
       "      <td>203.835342</td>\n",
       "      <td>117.014908</td>\n",
       "      <td>1092.642456</td>\n",
       "      <td>257.937164</td>\n",
       "      <td>133.023499</td>\n",
       "      <td>147.132126</td>\n",
       "      <td>142.699448</td>\n",
       "    </tr>\n",
       "    <tr>\n",
       "      <th>2021-01-09</th>\n",
       "      <td>715.279602</td>\n",
       "      <td>351.457184</td>\n",
       "      <td>100.243324</td>\n",
       "      <td>367.353882</td>\n",
       "      <td>66.100555</td>\n",
       "      <td>807.207031</td>\n",
       "      <td>124.622177</td>\n",
       "      <td>54.882431</td>\n",
       "      <td>117.928635</td>\n",
       "      <td>119.937805</td>\n",
       "      <td>184.712097</td>\n",
       "      <td>572.285339</td>\n",
       "      <td>51.416313</td>\n",
       "      <td>93.895416</td>\n",
       "      <td>133.982315</td>\n",
       "    </tr>\n",
       "    <tr>\n",
       "      <th>2021-01-21</th>\n",
       "      <td>325.976746</td>\n",
       "      <td>490.977356</td>\n",
       "      <td>136.785980</td>\n",
       "      <td>500.891998</td>\n",
       "      <td>74.853523</td>\n",
       "      <td>813.122131</td>\n",
       "      <td>146.077484</td>\n",
       "      <td>87.973320</td>\n",
       "      <td>149.937958</td>\n",
       "      <td>163.590485</td>\n",
       "      <td>1233.187134</td>\n",
       "      <td>566.028442</td>\n",
       "      <td>8.314092</td>\n",
       "      <td>24.543709</td>\n",
       "      <td>143.964798</td>\n",
       "    </tr>\n",
       "    <tr>\n",
       "      <th>2021-02-10</th>\n",
       "      <td>167.179871</td>\n",
       "      <td>545.132202</td>\n",
       "      <td>91.021637</td>\n",
       "      <td>191.275513</td>\n",
       "      <td>108.308769</td>\n",
       "      <td>881.044556</td>\n",
       "      <td>144.769745</td>\n",
       "      <td>63.307846</td>\n",
       "      <td>291.755676</td>\n",
       "      <td>111.700424</td>\n",
       "      <td>592.362976</td>\n",
       "      <td>408.737030</td>\n",
       "      <td>60.006161</td>\n",
       "      <td>177.342026</td>\n",
       "      <td>67.738052</td>\n",
       "    </tr>\n",
       "    <tr>\n",
       "      <th>2021-02-13</th>\n",
       "      <td>280.800171</td>\n",
       "      <td>504.206818</td>\n",
       "      <td>134.417603</td>\n",
       "      <td>405.863342</td>\n",
       "      <td>72.619293</td>\n",
       "      <td>787.453369</td>\n",
       "      <td>126.050583</td>\n",
       "      <td>35.755112</td>\n",
       "      <td>48.203991</td>\n",
       "      <td>129.081055</td>\n",
       "      <td>918.028381</td>\n",
       "      <td>556.878296</td>\n",
       "      <td>14.486405</td>\n",
       "      <td>27.316944</td>\n",
       "      <td>2.405948</td>\n",
       "    </tr>\n",
       "    <tr>\n",
       "      <th>...</th>\n",
       "      <td>...</td>\n",
       "      <td>...</td>\n",
       "      <td>...</td>\n",
       "      <td>...</td>\n",
       "      <td>...</td>\n",
       "      <td>...</td>\n",
       "      <td>...</td>\n",
       "      <td>...</td>\n",
       "      <td>...</td>\n",
       "      <td>...</td>\n",
       "      <td>...</td>\n",
       "      <td>...</td>\n",
       "      <td>...</td>\n",
       "      <td>...</td>\n",
       "      <td>...</td>\n",
       "    </tr>\n",
       "    <tr>\n",
       "      <th>2024-05-10</th>\n",
       "      <td>777.354004</td>\n",
       "      <td>107.631660</td>\n",
       "      <td>30.748890</td>\n",
       "      <td>90.560562</td>\n",
       "      <td>146.724838</td>\n",
       "      <td>243.170166</td>\n",
       "      <td>542.966003</td>\n",
       "      <td>13.301406</td>\n",
       "      <td>35.620926</td>\n",
       "      <td>173.263412</td>\n",
       "      <td>713.954590</td>\n",
       "      <td>443.647552</td>\n",
       "      <td>9.775264</td>\n",
       "      <td>37.554825</td>\n",
       "      <td>63.395508</td>\n",
       "    </tr>\n",
       "    <tr>\n",
       "      <th>2024-05-13</th>\n",
       "      <td>716.543701</td>\n",
       "      <td>305.779480</td>\n",
       "      <td>22.611246</td>\n",
       "      <td>165.610962</td>\n",
       "      <td>61.839939</td>\n",
       "      <td>120.704819</td>\n",
       "      <td>541.091553</td>\n",
       "      <td>13.267200</td>\n",
       "      <td>20.426884</td>\n",
       "      <td>71.220276</td>\n",
       "      <td>797.884949</td>\n",
       "      <td>141.748245</td>\n",
       "      <td>10.134691</td>\n",
       "      <td>28.270313</td>\n",
       "      <td>174.367538</td>\n",
       "    </tr>\n",
       "    <tr>\n",
       "      <th>2024-05-15</th>\n",
       "      <td>800.668274</td>\n",
       "      <td>145.144821</td>\n",
       "      <td>26.662622</td>\n",
       "      <td>81.719994</td>\n",
       "      <td>131.096573</td>\n",
       "      <td>756.216187</td>\n",
       "      <td>80.918289</td>\n",
       "      <td>15.954613</td>\n",
       "      <td>37.925011</td>\n",
       "      <td>145.252411</td>\n",
       "      <td>112.768906</td>\n",
       "      <td>556.176453</td>\n",
       "      <td>10.941070</td>\n",
       "      <td>24.187414</td>\n",
       "      <td>82.034576</td>\n",
       "    </tr>\n",
       "    <tr>\n",
       "      <th>2024-05-18</th>\n",
       "      <td>774.593811</td>\n",
       "      <td>107.590065</td>\n",
       "      <td>32.553211</td>\n",
       "      <td>89.817474</td>\n",
       "      <td>143.160324</td>\n",
       "      <td>233.447922</td>\n",
       "      <td>540.661499</td>\n",
       "      <td>23.895515</td>\n",
       "      <td>50.522202</td>\n",
       "      <td>166.417343</td>\n",
       "      <td>107.577980</td>\n",
       "      <td>557.288330</td>\n",
       "      <td>9.227895</td>\n",
       "      <td>16.054379</td>\n",
       "      <td>118.356796</td>\n",
       "    </tr>\n",
       "    <tr>\n",
       "      <th>2024-05-20</th>\n",
       "      <td>793.017395</td>\n",
       "      <td>117.654053</td>\n",
       "      <td>46.672836</td>\n",
       "      <td>123.771034</td>\n",
       "      <td>127.777275</td>\n",
       "      <td>235.372681</td>\n",
       "      <td>558.577759</td>\n",
       "      <td>14.813257</td>\n",
       "      <td>34.962509</td>\n",
       "      <td>50.437668</td>\n",
       "      <td>96.132912</td>\n",
       "      <td>525.082397</td>\n",
       "      <td>10.600873</td>\n",
       "      <td>24.264305</td>\n",
       "      <td>133.782135</td>\n",
       "    </tr>\n",
       "  </tbody>\n",
       "</table>\n",
       "<p>319 rows × 15 columns</p>\n",
       "</div>"
      ],
      "text/plain": [
       "            center_x_1  center_y_1  x_axis_length_1  y_axis_length_1  \\\n",
       "datetime                                                               \n",
       "2021-01-04  704.028564  442.499176       121.826691       451.231567   \n",
       "2021-01-09  715.279602  351.457184       100.243324       367.353882   \n",
       "2021-01-21  325.976746  490.977356       136.785980       500.891998   \n",
       "2021-02-10  167.179871  545.132202        91.021637       191.275513   \n",
       "2021-02-13  280.800171  504.206818       134.417603       405.863342   \n",
       "...                ...         ...              ...              ...   \n",
       "2024-05-10  777.354004  107.631660        30.748890        90.560562   \n",
       "2024-05-13  716.543701  305.779480        22.611246       165.610962   \n",
       "2024-05-15  800.668274  145.144821        26.662622        81.719994   \n",
       "2024-05-18  774.593811  107.590065        32.553211        89.817474   \n",
       "2024-05-20  793.017395  117.654053        46.672836       123.771034   \n",
       "\n",
       "               angle_1  center_x_2  center_y_2  x_axis_length_2  \\\n",
       "datetime                                                          \n",
       "2021-01-04   58.160427  960.999756  336.523529       112.876732   \n",
       "2021-01-09   66.100555  807.207031  124.622177        54.882431   \n",
       "2021-01-21   74.853523  813.122131  146.077484        87.973320   \n",
       "2021-02-10  108.308769  881.044556  144.769745        63.307846   \n",
       "2021-02-13   72.619293  787.453369  126.050583        35.755112   \n",
       "...                ...         ...         ...              ...   \n",
       "2024-05-10  146.724838  243.170166  542.966003        13.301406   \n",
       "2024-05-13   61.839939  120.704819  541.091553        13.267200   \n",
       "2024-05-15  131.096573  756.216187   80.918289        15.954613   \n",
       "2024-05-18  143.160324  233.447922  540.661499        23.895515   \n",
       "2024-05-20  127.777275  235.372681  558.577759        14.813257   \n",
       "\n",
       "            y_axis_length_2     angle_2   center_x_3  center_y_3  \\\n",
       "datetime                                                           \n",
       "2021-01-04       203.835342  117.014908  1092.642456  257.937164   \n",
       "2021-01-09       117.928635  119.937805   184.712097  572.285339   \n",
       "2021-01-21       149.937958  163.590485  1233.187134  566.028442   \n",
       "2021-02-10       291.755676  111.700424   592.362976  408.737030   \n",
       "2021-02-13        48.203991  129.081055   918.028381  556.878296   \n",
       "...                     ...         ...          ...         ...   \n",
       "2024-05-10        35.620926  173.263412   713.954590  443.647552   \n",
       "2024-05-13        20.426884   71.220276   797.884949  141.748245   \n",
       "2024-05-15        37.925011  145.252411   112.768906  556.176453   \n",
       "2024-05-18        50.522202  166.417343   107.577980  557.288330   \n",
       "2024-05-20        34.962509   50.437668    96.132912  525.082397   \n",
       "\n",
       "            x_axis_length_3  y_axis_length_3     angle_3  \n",
       "datetime                                                  \n",
       "2021-01-04       133.023499       147.132126  142.699448  \n",
       "2021-01-09        51.416313        93.895416  133.982315  \n",
       "2021-01-21         8.314092        24.543709  143.964798  \n",
       "2021-02-10        60.006161       177.342026   67.738052  \n",
       "2021-02-13        14.486405        27.316944    2.405948  \n",
       "...                     ...              ...         ...  \n",
       "2024-05-10         9.775264        37.554825   63.395508  \n",
       "2024-05-13        10.134691        28.270313  174.367538  \n",
       "2024-05-15        10.941070        24.187414   82.034576  \n",
       "2024-05-18         9.227895        16.054379  118.356796  \n",
       "2024-05-20        10.600873        24.264305  133.782135  \n",
       "\n",
       "[319 rows x 15 columns]"
      ]
     },
     "execution_count": 243,
     "metadata": {},
     "output_type": "execute_result"
    }
   ],
   "source": [
    "images_df"
   ]
  },
  {
   "cell_type": "markdown",
   "metadata": {},
   "source": [
    "#### 2. Preparing our data"
   ]
  },
  {
   "cell_type": "code",
   "execution_count": 244,
   "metadata": {},
   "outputs": [
    {
     "name": "stdout",
     "output_type": "stream",
     "text": [
      "Training data rows: 287, Test data rows: 32\n"
     ]
    }
   ],
   "source": [
    "from sklearn.model_selection import train_test_split\n",
    "from sklearn.metrics import mean_squared_error, mean_absolute_error\n",
    "\n",
    "result: list[pd.DataFrame] = train_test_split(weather_df, images_df, test_size=0.1, random_state=69, shuffle=False)\n",
    "X_train: pd.DataFrame = result[0]\n",
    "X_valid: pd.DataFrame = result[1]\n",
    "y_train: pd.DataFrame = result[2]\n",
    "y_valid: pd.DataFrame = result[3]\n",
    "\n",
    "print(f\"Training data rows: {len(X_train)}, Test data rows: {len(X_valid)}\")"
   ]
  },
  {
   "cell_type": "code",
   "execution_count": 245,
   "metadata": {},
   "outputs": [],
   "source": [
    "def print_metrics(actual, prediction, data_type) -> None:\n",
    "    print(\"Mean Squared Error, Root Mean Squared Error, Mean Absolute Error (perfect = 0.0)\")\n",
    "    print(f\"{data_type} DATA: MSE: {mean_squared_error(actual, prediction)}\")\n",
    "    print(f\"{data_type} DATA: RMSE: {mean_squared_error(actual, prediction, squared=False)}\")\n",
    "    print(f\"{data_type} DATA: MAE: {mean_absolute_error(actual, prediction)}\\n\")"
   ]
  },
  {
   "cell_type": "markdown",
   "metadata": {},
   "source": [
    "#### 3. Testing different types of supervised regression models"
   ]
  },
  {
   "cell_type": "markdown",
   "metadata": {},
   "source": [
    "##### 3.1. Decision Tree Regressor"
   ]
  },
  {
   "cell_type": "code",
   "execution_count": 246,
   "metadata": {},
   "outputs": [
    {
     "name": "stdout",
     "output_type": "stream",
     "text": [
      "Mean Squared Error, Root Mean Squared Error, Mean Absolute Error (perfect = 0.0)\n",
      "KNOWN DATA: MSE: 31752.034738690665\n",
      "KNOWN DATA: RMSE: 138.95467493435228\n",
      "KNOWN DATA: MAE: 112.77470570265027\n",
      "\n",
      "Mean Squared Error, Root Mean Squared Error, Mean Absolute Error (perfect = 0.0)\n",
      "NEW DATA: MSE: 32303.03556478138\n",
      "NEW DATA: RMSE: 139.27506717536966\n",
      "NEW DATA: MAE: 113.88860356443453\n",
      "\n"
     ]
    }
   ],
   "source": [
    "from sklearn.tree import DecisionTreeRegressor\n",
    "\n",
    "tree_model = DecisionTreeRegressor(min_samples_split=10, min_samples_leaf=10, min_weight_fraction_leaf=0.3)\n",
    "\n",
    "tree_model.fit(X_train, y_train)\n",
    "\n",
    "tree_y_pred: np.ndarray = tree_model.predict(X_train)\n",
    "print_metrics(y_train, tree_y_pred, \"KNOWN\")\n",
    "\n",
    "tree_y_pred: np.ndarray = tree_model.predict(X_valid)\n",
    "print_metrics(y_valid, tree_y_pred, \"NEW\")"
   ]
  },
  {
   "cell_type": "markdown",
   "metadata": {},
   "source": [
    "Hyperparamter tuning is found empiracally to be a good balance between being to correctly identify known data and handle new data.\n",
    "The problem however is that we have very little data for training and validating.\n",
    "\n",
    "##### Non-default hyperparameters:\n",
    "\n",
    "- min_samples_split (default=2): The minimum number of samples required to split an internal node: If int, then consider min_samples_split as the minimum number. If float, then min_samples_split is a fraction and ceil(min_samples_split * n_samples) are the minimum number of samples for each split.\n",
    "- min_samples_leaf (default=1): The minimum number of samples required to be at a leaf node. A split point at any depth will only be considered if it leaves at least min_samples_leaf training samples in each of the left and right branches. This may have the effect of smoothing the model, especially in regression.\n",
    "\n",
    "- min_weight_fraction_leaf (default=0.0): The minimum weighted fraction of the sum total of weights (of all the input samples) required to be at a leaf node. Samples have equal weight when sample_weight is not provided.\n",
    "\n",
    "\n",
    "[scikit-learn DecisionTreeRegressor](https://scikit-learn.org/stable/modules/generated/sklearn.tree.DecisionTreeRegressor.html)"
   ]
  },
  {
   "cell_type": "markdown",
   "metadata": {},
   "source": [
    "##### 3.2. Random Forest Regressor"
   ]
  },
  {
   "cell_type": "code",
   "execution_count": 247,
   "metadata": {},
   "outputs": [
    {
     "name": "stdout",
     "output_type": "stream",
     "text": [
      "Mean Squared Error, Root Mean Squared Error, Mean Absolute Error (perfect = 0.0)\n",
      "KNOWN DATA: MSE: 31519.575029202122\n",
      "KNOWN DATA: RMSE: 138.4262801376414\n",
      "KNOWN DATA: MAE: 112.75331368006995\n",
      "\n",
      "Mean Squared Error, Root Mean Squared Error, Mean Absolute Error (perfect = 0.0)\n",
      "NEW DATA: MSE: 32328.965341762407\n",
      "NEW DATA: RMSE: 139.5722869642563\n",
      "NEW DATA: MAE: 114.00219634707965\n",
      "\n"
     ]
    }
   ],
   "source": [
    "from sklearn.ensemble import RandomForestRegressor\n",
    "\n",
    "forest_model = RandomForestRegressor(min_samples_leaf=10, min_weight_fraction_leaf=0.3)\n",
    "\n",
    "forest_model.fit(X_train, y_train)\n",
    "\n",
    "forest_y_pred: np.ndarray = forest_model.predict(X_train)\n",
    "print_metrics(y_train, forest_y_pred, \"KNOWN\")\n",
    "\n",
    "forest_y_pred: np.ndarray = forest_model.predict(X_valid)\n",
    "print_metrics(y_valid, forest_y_pred, \"NEW\")"
   ]
  },
  {
   "cell_type": "markdown",
   "metadata": {},
   "source": [
    "##### Non-default hyperparameters:\n",
    "\n",
    "- min_samples_leaf (default=1): The minimum number of samples required to be at a leaf node. A split point at any depth will only be considered if it leaves at least min_samples_leaf training samples in each of the left and right branches. This may have the effect of smoothing the model, especially in regression.\n",
    "- min_weight_fraction_leaf (default=0.0): The minimum weighted fraction of the sum total of weights (of all the input samples) required to be at a leaf node. Samples have equal weight when sample_weight is not provided.\n",
    "\n",
    "[scikit-learn RandomForestRegressor](https://scikit-learn.org/stable/modules/generated/sklearn.ensemble.RandomForestRegressor.html)"
   ]
  },
  {
   "cell_type": "markdown",
   "metadata": {},
   "source": [
    "##### 3.3. Linear Regressor"
   ]
  },
  {
   "cell_type": "code",
   "execution_count": 248,
   "metadata": {},
   "outputs": [
    {
     "name": "stdout",
     "output_type": "stream",
     "text": [
      "Mean Squared Error, Root Mean Squared Error, Mean Absolute Error (perfect = 0.0)\n",
      "KNOWN DATA: MSE: 32412.473880083835\n",
      "KNOWN DATA: RMSE: 140.13840079242888\n",
      "KNOWN DATA: MAE: 114.45904001584911\n",
      "\n",
      "Mean Squared Error, Root Mean Squared Error, Mean Absolute Error (perfect = 0.0)\n",
      "NEW DATA: MSE: 32201.900449802193\n",
      "NEW DATA: RMSE: 139.62326538527105\n",
      "NEW DATA: MAE: 114.78593845659337\n",
      "\n"
     ]
    }
   ],
   "source": [
    "from sklearn.linear_model import LinearRegression\n",
    "\n",
    "linear_model = LinearRegression(positive=True)\n",
    "\n",
    "linear_model.fit(X_train, y_train)\n",
    "\n",
    "linear_y_pred: np.ndarray = linear_model.predict(X_train)\n",
    "print_metrics(y_train, linear_y_pred, \"KNOWN\")\n",
    "\n",
    "linear_y_pred: np.ndarray = linear_model.predict(X_valid)\n",
    "print_metrics(y_valid, linear_y_pred, \"NEW\")"
   ]
  },
  {
   "cell_type": "markdown",
   "metadata": {},
   "source": [
    "##### Non-default hyperparameters:\n",
    "\n",
    "- positive (default=False): When set to True, forces the coefficients to be positive. This option is only supported for dense arrays.\n",
    "\n",
    "[scikit-learn LinearRegression](https://scikit-learn.org/stable/modules/generated/sklearn.linear_model.LinearRegression.html)"
   ]
  },
  {
   "cell_type": "markdown",
   "metadata": {},
   "source": [
    "##### 3.4. Ridge Regression"
   ]
  },
  {
   "cell_type": "code",
   "execution_count": 249,
   "metadata": {},
   "outputs": [
    {
     "name": "stdout",
     "output_type": "stream",
     "text": [
      "Mean Squared Error, Root Mean Squared Error, Mean Absolute Error (perfect = 0.0)\n",
      "KNOWN DATA: MSE: 32412.473880672176\n",
      "KNOWN DATA: RMSE: 140.13840079471518\n",
      "KNOWN DATA: MAE: 114.45905276457098\n",
      "\n",
      "Mean Squared Error, Root Mean Squared Error, Mean Absolute Error (perfect = 0.0)\n",
      "NEW DATA: MSE: 32201.91389630856\n",
      "NEW DATA: RMSE: 139.62331318445302\n",
      "NEW DATA: MAE: 114.78600015441154\n",
      "\n"
     ]
    }
   ],
   "source": [
    "from sklearn.linear_model import Ridge\n",
    "\n",
    "ridge_model = Ridge(solver=\"lbfgs\", positive=True)\n",
    "\n",
    "ridge_model.fit(X_train, y_train)\n",
    "\n",
    "ridge_y_pred: np.ndarray = ridge_model.predict(X_train)\n",
    "print_metrics(y_train, ridge_y_pred, \"KNOWN\")\n",
    "\n",
    "ridge_y_pred: np.ndarray = ridge_model.predict(X_valid)\n",
    "print_metrics(y_valid, ridge_y_pred, \"NEW\")"
   ]
  },
  {
   "cell_type": "markdown",
   "metadata": {},
   "source": [
    "##### Non-default hyperparameters:\n",
    "\n",
    "- solver (default=\"auto\"): Solver to use in the computational routines: ‘auto’ chooses the solver automatically based on the type of data. ‘svd’ uses a Singular Value Decomposition of X to compute the Ridge coefficients. It is the most stable solver, in particular more stable for singular matrices than ‘cholesky’ at the cost of being slower. ‘cholesky’ uses the standard scipy.linalg.solve function to obtain a closed-form solution. ‘sparse_cg’ uses the conjugate gradient solver as found in scipy.sparse.linalg.cg. As an iterative algorithm, this solver is more appropriate than ‘cholesky’ for large-scale data (possibility to set tol and max_iter). ‘lsqr’ uses the dedicated regularized least-squares routine scipy.sparse.linalg.lsqr. It is the fastest and uses an iterative procedure. ‘sag’ uses a Stochastic Average Gradient descent, and ‘saga’ uses its improved, unbiased version named SAGA. Both methods also use an iterative procedure, and are often faster than other solvers when both n_samples and n_features are large. Note that ‘sag’ and ‘saga’ fast convergence is only guaranteed on features with approximately the same scale. You can preprocess the data with a scaler from sklearn.preprocessing. ‘lbfgs’ uses L-BFGS-B algorithm implemented in scipy.optimize.minimize. It can be used only when positive is True. All solvers except ‘svd’ support both dense and sparse data. However, only ‘lsqr’, ‘sag’, ‘sparse_cg’, and ‘lbfgs’ support sparse input when fit_intercept is True.\n",
    "- positive (default=False): When set to True, forces the coefficients to be positive. Only ‘lbfgs’ solver is supported in this case.\n",
    "\n",
    "[scikit-learn Ridge](https://scikit-learn.org/stable/modules/generated/sklearn.linear_model.Ridge.html)"
   ]
  },
  {
   "cell_type": "markdown",
   "metadata": {},
   "source": [
    "##### 3.5. Lasso Regression"
   ]
  },
  {
   "cell_type": "code",
   "execution_count": 250,
   "metadata": {},
   "outputs": [
    {
     "name": "stdout",
     "output_type": "stream",
     "text": [
      "Mean Squared Error, Root Mean Squared Error, Mean Absolute Error (perfect = 0.0)\n",
      "KNOWN DATA: MSE: 32412.484075229924\n",
      "KNOWN DATA: RMSE: 140.1385092368401\n",
      "KNOWN DATA: MAE: 114.46022118650104\n",
      "\n",
      "Mean Squared Error, Root Mean Squared Error, Mean Absolute Error (perfect = 0.0)\n",
      "NEW DATA: MSE: 32202.681205668472\n",
      "NEW DATA: RMSE: 139.62734251695647\n",
      "NEW DATA: MAE: 114.7960288132233\n",
      "\n"
     ]
    }
   ],
   "source": [
    "from sklearn.linear_model import Lasso\n",
    "\n",
    "lasso_model = Lasso(positive=True)\n",
    "\n",
    "lasso_model.fit(X_train, y_train)\n",
    "\n",
    "lasso_y_pred: np.ndarray = lasso_model.predict(X_train)\n",
    "print_metrics(y_train, lasso_y_pred, \"KNOWN\")\n",
    "\n",
    "lasso_y_pred: np.ndarray = lasso_model.predict(X_valid)\n",
    "print_metrics(y_valid, lasso_y_pred, \"NEW\")"
   ]
  },
  {
   "cell_type": "markdown",
   "metadata": {},
   "source": [
    "##### Non-default hyperparameters:\n",
    "\n",
    "- positive (default=False): When set to True, forces the coefficients to be positive.\n",
    "\n",
    "[scikit-learn Lasso](https://scikit-learn.org/stable/modules/generated/sklearn.linear_model.Lasso.html)"
   ]
  },
  {
   "cell_type": "markdown",
   "metadata": {},
   "source": [
    "##### 3.6. Nearest Neighbour Regressor"
   ]
  },
  {
   "cell_type": "code",
   "execution_count": 251,
   "metadata": {},
   "outputs": [
    {
     "name": "stdout",
     "output_type": "stream",
     "text": [
      "Mean Squared Error, Root Mean Squared Error, Mean Absolute Error (perfect = 0.0)\n",
      "KNOWN DATA: MSE: 30362.396808735983\n",
      "KNOWN DATA: RMSE: 135.82851850619156\n",
      "KNOWN DATA: MAE: 109.82000238432865\n",
      "\n",
      "Mean Squared Error, Root Mean Squared Error, Mean Absolute Error (perfect = 0.0)\n",
      "NEW DATA: MSE: 33495.226513995294\n",
      "NEW DATA: RMSE: 141.74131716314858\n",
      "NEW DATA: MAE: 116.26705300511918\n",
      "\n"
     ]
    }
   ],
   "source": [
    "from sklearn.neighbors import KNeighborsRegressor\n",
    "\n",
    "neighbour_model = KNeighborsRegressor(n_neighbors=25)\n",
    "\n",
    "neighbour_model.fit(X_train, y_train)\n",
    "\n",
    "neighbour_y_pred: np.ndarray = neighbour_model.predict(X_train)\n",
    "print_metrics(y_train, neighbour_y_pred, \"KNOWN\")\n",
    "\n",
    "neighbour_y_pred: np.ndarray = neighbour_model.predict(X_valid)\n",
    "print_metrics(y_valid, neighbour_y_pred, \"NEW\")"
   ]
  },
  {
   "cell_type": "markdown",
   "metadata": {},
   "source": [
    "##### Non-default hyperparameters:\n",
    "\n",
    "- n_neighbours (default=5): Number of neighbors to use by default for kneighbors queries.\n",
    "\n",
    "[scikit-learn KNeighboursRegressor](https://scikit-learn.org/stable/modules/generated/sklearn.neighbors.KNeighborsRegressor.html)"
   ]
  },
  {
   "cell_type": "markdown",
   "metadata": {},
   "source": [
    "##### 3.7. Multi-Layer Perceptron (MLP) Regressor"
   ]
  },
  {
   "cell_type": "code",
   "execution_count": 252,
   "metadata": {},
   "outputs": [
    {
     "name": "stdout",
     "output_type": "stream",
     "text": [
      "Mean Squared Error, Root Mean Squared Error, Mean Absolute Error (perfect = 0.0)\n",
      "KNOWN DATA: MSE: 37383.10089998637\n",
      "KNOWN DATA: RMSE: 156.56878316466774\n",
      "KNOWN DATA: MAE: 127.03538122792422\n",
      "\n",
      "Mean Squared Error, Root Mean Squared Error, Mean Absolute Error (perfect = 0.0)\n",
      "NEW DATA: MSE: 35015.992353174246\n",
      "NEW DATA: RMSE: 157.24175084873022\n",
      "NEW DATA: MAE: 126.39245835706134\n",
      "\n"
     ]
    }
   ],
   "source": [
    "from sklearn.neural_network import MLPRegressor\n",
    "\n",
    "mlp_model = MLPRegressor(solver=\"lbfgs\")\n",
    "\n",
    "mlp_model.fit(X_train, y_train)\n",
    "\n",
    "mlp_y_pred: np.ndarray = mlp_model.predict(X_train)\n",
    "print_metrics(y_train, mlp_y_pred, \"KNOWN\")\n",
    "\n",
    "mlp_y_pred: np.ndarray = mlp_model.predict(X_valid)\n",
    "print_metrics(y_valid, mlp_y_pred, \"NEW\")"
   ]
  },
  {
   "cell_type": "markdown",
   "metadata": {},
   "source": [
    "##### Non-default hyperparameters:\n",
    "\n",
    "- solver (default=\"adam\"): The solver for weight optimization. ‘lbfgs’ is an optimizer in the family of quasi-Newton methods. ‘sgd’ refers to stochastic gradient descent. ‘adam’ refers to a stochastic gradient-based optimizer proposed by Kingma, Diederik, and Jimmy Ba. Note: The default solver ‘adam’ works pretty well on relatively large datasets (with thousands of training samples or more) in terms of both training time and validation score. For small datasets, however, ‘lbfgs’ can converge faster and perform better.\n",
    "\n",
    "[scikit-learn MLP Regressor](https://scikit-learn.org/stable/modules/generated/sklearn.neural_network.MLPRegressor.html)"
   ]
  },
  {
   "cell_type": "markdown",
   "metadata": {},
   "source": [
    "#### 5. Testing timeseries model"
   ]
  },
  {
   "cell_type": "markdown",
   "metadata": {},
   "source": [
    "##### 5.1 Preparing data for timeseries analysis"
   ]
  },
  {
   "cell_type": "code",
   "execution_count": 253,
   "metadata": {},
   "outputs": [],
   "source": [
    "# Converting the index to a datetimeindex\n",
    "weather_df.index = pd.to_datetime(weather_df.index)\n",
    "images_df.index = pd.to_datetime(images_df.index)"
   ]
  },
  {
   "cell_type": "code",
   "execution_count": 254,
   "metadata": {},
   "outputs": [
    {
     "name": "stderr",
     "output_type": "stream",
     "text": [
      "ValueError: Could not find a unique inferred frequency (not constant). Observed frequencies: {'5D', '10D'}. If any of those is the actual frequency, try passing it with `fill_missing_dates=True` and `freq=your_frequency`. For more information about frequency aliases, read https://pandas.pydata.org/pandas-docs/stable/user_guide/timeseries.html#offset-aliases\n"
     ]
    },
    {
     "ename": "ValueError",
     "evalue": "Could not find a unique inferred frequency (not constant). Observed frequencies: {'5D', '10D'}. If any of those is the actual frequency, try passing it with `fill_missing_dates=True` and `freq=your_frequency`. For more information about frequency aliases, read https://pandas.pydata.org/pandas-docs/stable/user_guide/timeseries.html#offset-aliases",
     "output_type": "error",
     "traceback": [
      "\u001b[0;31m---------------------------------------------------------------------------\u001b[0m",
      "\u001b[0;31mValueError\u001b[0m                                Traceback (most recent call last)",
      "Cell \u001b[0;32mIn[254], line 3\u001b[0m\n\u001b[1;32m      1\u001b[0m \u001b[38;5;28;01mfrom\u001b[39;00m \u001b[38;5;21;01mdarts\u001b[39;00m \u001b[38;5;28;01mimport\u001b[39;00m TimeSeries\n\u001b[0;32m----> 3\u001b[0m weather_ts: TimeSeries \u001b[38;5;241m=\u001b[39m \u001b[43mTimeSeries\u001b[49m\u001b[38;5;241;43m.\u001b[39;49m\u001b[43mfrom_dataframe\u001b[49m\u001b[43m(\u001b[49m\u001b[43mweather_df\u001b[49m\u001b[43m,\u001b[49m\u001b[43m \u001b[49m\u001b[43mfill_missing_dates\u001b[49m\u001b[38;5;241;43m=\u001b[39;49m\u001b[38;5;28;43;01mTrue\u001b[39;49;00m\u001b[43m)\u001b[49m\n\u001b[1;32m      4\u001b[0m image_ts: TimeSeries \u001b[38;5;241m=\u001b[39m TimeSeries\u001b[38;5;241m.\u001b[39mfrom_dataframe(images_df)\n",
      "File \u001b[0;32m~/.local/lib/python3.10/site-packages/darts/timeseries.py:744\u001b[0m, in \u001b[0;36mTimeSeries.from_dataframe\u001b[0;34m(cls, df, time_col, value_cols, fill_missing_dates, freq, fillna_value, static_covariates, hierarchy)\u001b[0m\n\u001b[1;32m    735\u001b[0m     series_df\u001b[38;5;241m.\u001b[39mcolumns\u001b[38;5;241m.\u001b[39mname \u001b[38;5;241m=\u001b[39m \u001b[38;5;28;01mNone\u001b[39;00m\n\u001b[1;32m    737\u001b[0m xa \u001b[38;5;241m=\u001b[39m xr\u001b[38;5;241m.\u001b[39mDataArray(\n\u001b[1;32m    738\u001b[0m     series_df\u001b[38;5;241m.\u001b[39mvalues[:, :, np\u001b[38;5;241m.\u001b[39mnewaxis],\n\u001b[1;32m    739\u001b[0m     dims\u001b[38;5;241m=\u001b[39m(time_index\u001b[38;5;241m.\u001b[39mname,) \u001b[38;5;241m+\u001b[39m DIMS[\u001b[38;5;241m-\u001b[39m\u001b[38;5;241m2\u001b[39m:],\n\u001b[1;32m    740\u001b[0m     coords\u001b[38;5;241m=\u001b[39m{time_index\u001b[38;5;241m.\u001b[39mname: time_index, DIMS[\u001b[38;5;241m1\u001b[39m]: series_df\u001b[38;5;241m.\u001b[39mcolumns},\n\u001b[1;32m    741\u001b[0m     attrs\u001b[38;5;241m=\u001b[39m{STATIC_COV_TAG: static_covariates, HIERARCHY_TAG: hierarchy},\n\u001b[1;32m    742\u001b[0m )\n\u001b[0;32m--> 744\u001b[0m \u001b[38;5;28;01mreturn\u001b[39;00m \u001b[38;5;28;43mcls\u001b[39;49m\u001b[38;5;241;43m.\u001b[39;49m\u001b[43mfrom_xarray\u001b[49m\u001b[43m(\u001b[49m\n\u001b[1;32m    745\u001b[0m \u001b[43m    \u001b[49m\u001b[43mxa\u001b[49m\u001b[38;5;241;43m=\u001b[39;49m\u001b[43mxa\u001b[49m\u001b[43m,\u001b[49m\n\u001b[1;32m    746\u001b[0m \u001b[43m    \u001b[49m\u001b[43mfill_missing_dates\u001b[49m\u001b[38;5;241;43m=\u001b[39;49m\u001b[43mfill_missing_dates\u001b[49m\u001b[43m,\u001b[49m\n\u001b[1;32m    747\u001b[0m \u001b[43m    \u001b[49m\u001b[43mfreq\u001b[49m\u001b[38;5;241;43m=\u001b[39;49m\u001b[43mfreq\u001b[49m\u001b[43m,\u001b[49m\n\u001b[1;32m    748\u001b[0m \u001b[43m    \u001b[49m\u001b[43mfillna_value\u001b[49m\u001b[38;5;241;43m=\u001b[39;49m\u001b[43mfillna_value\u001b[49m\u001b[43m,\u001b[49m\n\u001b[1;32m    749\u001b[0m \u001b[43m\u001b[49m\u001b[43m)\u001b[49m\n",
      "File \u001b[0;32m~/.local/lib/python3.10/site-packages/darts/timeseries.py:390\u001b[0m, in \u001b[0;36mTimeSeries.from_xarray\u001b[0;34m(cls, xa, fill_missing_dates, freq, fillna_value)\u001b[0m\n\u001b[1;32m    388\u001b[0m \u001b[38;5;66;03m# optionally fill missing dates; do it only when there is a DatetimeIndex (and not a RangeIndex)\u001b[39;00m\n\u001b[1;32m    389\u001b[0m \u001b[38;5;28;01mif\u001b[39;00m fill_missing_dates:\n\u001b[0;32m--> 390\u001b[0m     xa_ \u001b[38;5;241m=\u001b[39m \u001b[38;5;28;43mcls\u001b[39;49m\u001b[38;5;241;43m.\u001b[39;49m\u001b[43m_fill_missing_dates\u001b[49m\u001b[43m(\u001b[49m\u001b[43mxa\u001b[49m\u001b[43m,\u001b[49m\u001b[43m \u001b[49m\u001b[43mfreq\u001b[49m\u001b[38;5;241;43m=\u001b[39;49m\u001b[43mfreq\u001b[49m\u001b[43m)\u001b[49m\n\u001b[1;32m    391\u001b[0m \u001b[38;5;66;03m# provided index does not have a freq; using the provided freq\u001b[39;00m\n\u001b[1;32m    392\u001b[0m \u001b[38;5;28;01melif\u001b[39;00m (\n\u001b[1;32m    393\u001b[0m     (has_datetime_index \u001b[38;5;129;01mor\u001b[39;00m has_integer_index)\n\u001b[1;32m    394\u001b[0m     \u001b[38;5;129;01mand\u001b[39;00m freq \u001b[38;5;129;01mis\u001b[39;00m \u001b[38;5;129;01mnot\u001b[39;00m \u001b[38;5;28;01mNone\u001b[39;00m\n\u001b[1;32m    395\u001b[0m     \u001b[38;5;129;01mand\u001b[39;00m \u001b[38;5;129;01mnot\u001b[39;00m has_frequency\n\u001b[1;32m    396\u001b[0m ):\n",
      "File \u001b[0;32m~/.local/lib/python3.10/site-packages/darts/timeseries.py:4606\u001b[0m, in \u001b[0;36mTimeSeries._fill_missing_dates\u001b[0;34m(cls, xa, freq)\u001b[0m\n\u001b[1;32m   4597\u001b[0m offset_alias_info \u001b[38;5;241m=\u001b[39m (\n\u001b[1;32m   4598\u001b[0m     (\n\u001b[1;32m   4599\u001b[0m         \u001b[38;5;124m\"\u001b[39m\u001b[38;5;124m For more information about frequency aliases, read \u001b[39m\u001b[38;5;124m\"\u001b[39m\n\u001b[0;32m   (...)\u001b[0m\n\u001b[1;32m   4603\u001b[0m     \u001b[38;5;28;01melse\u001b[39;00m \u001b[38;5;124m\"\u001b[39m\u001b[38;5;124m\"\u001b[39m\n\u001b[1;32m   4604\u001b[0m )\n\u001b[1;32m   4605\u001b[0m \u001b[38;5;28;01mif\u001b[39;00m \u001b[38;5;129;01mnot\u001b[39;00m \u001b[38;5;28mlen\u001b[39m(observed_freqs) \u001b[38;5;241m==\u001b[39m \u001b[38;5;241m1\u001b[39m:\n\u001b[0;32m-> 4606\u001b[0m     \u001b[43mraise_log\u001b[49m\u001b[43m(\u001b[49m\n\u001b[1;32m   4607\u001b[0m \u001b[43m        \u001b[49m\u001b[38;5;167;43;01mValueError\u001b[39;49;00m\u001b[43m(\u001b[49m\n\u001b[1;32m   4608\u001b[0m \u001b[43m            \u001b[49m\u001b[38;5;124;43mf\u001b[39;49m\u001b[38;5;124;43m\"\u001b[39;49m\u001b[38;5;124;43mCould not observe an inferred frequency. An explicit frequency must be evident over a span of \u001b[39;49m\u001b[38;5;124;43m\"\u001b[39;49m\n\u001b[1;32m   4609\u001b[0m \u001b[43m            \u001b[49m\u001b[38;5;124;43mf\u001b[39;49m\u001b[38;5;124;43m\"\u001b[39;49m\u001b[38;5;124;43mat least 3 consecutive time stamps in the input data. \u001b[39;49m\u001b[38;5;132;43;01m{\u001b[39;49;00m\u001b[43moffset_alias_info\u001b[49m\u001b[38;5;132;43;01m}\u001b[39;49;00m\u001b[38;5;124;43m\"\u001b[39;49m\n\u001b[1;32m   4610\u001b[0m \u001b[43m            \u001b[49m\u001b[38;5;28;43;01mif\u001b[39;49;00m\u001b[43m \u001b[49m\u001b[38;5;129;43;01mnot\u001b[39;49;00m\u001b[43m \u001b[49m\u001b[38;5;28;43mlen\u001b[39;49m\u001b[43m(\u001b[49m\u001b[43mobserved_freqs\u001b[49m\u001b[43m)\u001b[49m\n\u001b[1;32m   4611\u001b[0m \u001b[43m            \u001b[49m\u001b[38;5;28;43;01melse\u001b[39;49;00m\u001b[43m \u001b[49m\u001b[38;5;124;43mf\u001b[39;49m\u001b[38;5;124;43m\"\u001b[39;49m\u001b[38;5;124;43mCould not find a unique inferred frequency (not constant). Observed frequencies: \u001b[39;49m\u001b[38;5;124;43m\"\u001b[39;49m\n\u001b[1;32m   4612\u001b[0m \u001b[43m            \u001b[49m\u001b[38;5;124;43mf\u001b[39;49m\u001b[38;5;124;43m\"\u001b[39;49m\u001b[38;5;132;43;01m{\u001b[39;49;00m\u001b[43mobserved_freqs\u001b[49m\u001b[38;5;132;43;01m}\u001b[39;49;00m\u001b[38;5;124;43m. If any of those is the actual frequency, try passing it with \u001b[39;49m\u001b[38;5;124;43m\"\u001b[39;49m\n\u001b[1;32m   4613\u001b[0m \u001b[43m            \u001b[49m\u001b[38;5;124;43mf\u001b[39;49m\u001b[38;5;124;43m\"\u001b[39;49m\u001b[38;5;124;43m`fill_missing_dates=True` and `freq=your_frequency`.\u001b[39;49m\u001b[38;5;132;43;01m{\u001b[39;49;00m\u001b[43moffset_alias_info\u001b[49m\u001b[38;5;132;43;01m}\u001b[39;49;00m\u001b[38;5;124;43m\"\u001b[39;49m\n\u001b[1;32m   4614\u001b[0m \u001b[43m        \u001b[49m\u001b[43m)\u001b[49m\u001b[43m,\u001b[49m\n\u001b[1;32m   4615\u001b[0m \u001b[43m        \u001b[49m\u001b[43mlogger\u001b[49m\u001b[43m,\u001b[49m\n\u001b[1;32m   4616\u001b[0m \u001b[43m    \u001b[49m\u001b[43m)\u001b[49m\n\u001b[1;32m   4618\u001b[0m freq \u001b[38;5;241m=\u001b[39m observed_freqs\u001b[38;5;241m.\u001b[39mpop()\n\u001b[1;32m   4620\u001b[0m \u001b[38;5;28;01mreturn\u001b[39;00m \u001b[38;5;28mcls\u001b[39m\u001b[38;5;241m.\u001b[39m_restore_xarray_from_frequency(sorted_xa, freq)\n",
      "File \u001b[0;32m~/.local/lib/python3.10/site-packages/darts/logging.py:132\u001b[0m, in \u001b[0;36mraise_log\u001b[0;34m(exception, logger)\u001b[0m\n\u001b[1;32m    129\u001b[0m message \u001b[38;5;241m=\u001b[39m \u001b[38;5;28mstr\u001b[39m(exception)\n\u001b[1;32m    130\u001b[0m logger\u001b[38;5;241m.\u001b[39merror(exception_type \u001b[38;5;241m+\u001b[39m \u001b[38;5;124m\"\u001b[39m\u001b[38;5;124m: \u001b[39m\u001b[38;5;124m\"\u001b[39m \u001b[38;5;241m+\u001b[39m message)\n\u001b[0;32m--> 132\u001b[0m \u001b[38;5;28;01mraise\u001b[39;00m exception\n",
      "\u001b[0;31mValueError\u001b[0m: Could not find a unique inferred frequency (not constant). Observed frequencies: {'5D', '10D'}. If any of those is the actual frequency, try passing it with `fill_missing_dates=True` and `freq=your_frequency`. For more information about frequency aliases, read https://pandas.pydata.org/pandas-docs/stable/user_guide/timeseries.html#offset-aliases"
     ]
    }
   ],
   "source": [
    "from darts import TimeSeries\n",
    "\n",
    "weather_ts: TimeSeries = TimeSeries.from_dataframe(weather_df, fill_missing_dates=True)\n",
    "image_ts: TimeSeries = TimeSeries.from_dataframe(images_df)"
   ]
  }
 ],
 "metadata": {
  "kernelspec": {
   "display_name": "Python 3",
   "language": "python",
   "name": "python3"
  },
  "language_info": {
   "codemirror_mode": {
    "name": "ipython",
    "version": 3
   },
   "file_extension": ".py",
   "mimetype": "text/x-python",
   "name": "python",
   "nbconvert_exporter": "python",
   "pygments_lexer": "ipython3",
   "version": "3.10.12"
  }
 },
 "nbformat": 4,
 "nbformat_minor": 2
}
