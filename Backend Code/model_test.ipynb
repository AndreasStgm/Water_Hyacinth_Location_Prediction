{
 "cells": [
  {
   "cell_type": "code",
   "execution_count": 260,
   "metadata": {},
   "outputs": [],
   "source": [
    "import pandas as pd\n",
    "import numpy as np\n",
    "\n",
    "import warnings\n",
    "warnings.filterwarnings(\"ignore\")"
   ]
  },
  {
   "cell_type": "markdown",
   "metadata": {},
   "source": [
    "#### 1. Loading in our data"
   ]
  },
  {
   "cell_type": "code",
   "execution_count": 261,
   "metadata": {},
   "outputs": [],
   "source": [
    "weather_df: pd.DataFrame = pd.read_feather(\"./training_data/processed_data/preprocessed_weather_hartbeespoort.feather\")\n",
    "images_df: pd.DataFrame = pd.read_feather(\"./training_data/processed_data/preprocessed_image_test.feather\")"
   ]
  },
  {
   "cell_type": "code",
   "execution_count": 262,
   "metadata": {},
   "outputs": [
    {
     "data": {
      "text/html": [
       "<div>\n",
       "<style scoped>\n",
       "    .dataframe tbody tr th:only-of-type {\n",
       "        vertical-align: middle;\n",
       "    }\n",
       "\n",
       "    .dataframe tbody tr th {\n",
       "        vertical-align: top;\n",
       "    }\n",
       "\n",
       "    .dataframe thead th {\n",
       "        text-align: right;\n",
       "    }\n",
       "</style>\n",
       "<table border=\"1\" class=\"dataframe\">\n",
       "  <thead>\n",
       "    <tr style=\"text-align: right;\">\n",
       "      <th></th>\n",
       "      <th>windspeed</th>\n",
       "      <th>winddir</th>\n",
       "    </tr>\n",
       "    <tr>\n",
       "      <th>datetime</th>\n",
       "      <th></th>\n",
       "      <th></th>\n",
       "    </tr>\n",
       "  </thead>\n",
       "  <tbody>\n",
       "    <tr>\n",
       "      <th>2021-01-04</th>\n",
       "      <td>18.4</td>\n",
       "      <td>292.2</td>\n",
       "    </tr>\n",
       "    <tr>\n",
       "      <th>2021-01-09</th>\n",
       "      <td>15.4</td>\n",
       "      <td>330.5</td>\n",
       "    </tr>\n",
       "    <tr>\n",
       "      <th>2021-01-21</th>\n",
       "      <td>21.7</td>\n",
       "      <td>85.6</td>\n",
       "    </tr>\n",
       "    <tr>\n",
       "      <th>2021-02-10</th>\n",
       "      <td>13.6</td>\n",
       "      <td>46.0</td>\n",
       "    </tr>\n",
       "    <tr>\n",
       "      <th>2021-02-13</th>\n",
       "      <td>16.6</td>\n",
       "      <td>117.2</td>\n",
       "    </tr>\n",
       "    <tr>\n",
       "      <th>...</th>\n",
       "      <td>...</td>\n",
       "      <td>...</td>\n",
       "    </tr>\n",
       "    <tr>\n",
       "      <th>2024-04-10</th>\n",
       "      <td>19.6</td>\n",
       "      <td>194.2</td>\n",
       "    </tr>\n",
       "    <tr>\n",
       "      <th>2024-04-13</th>\n",
       "      <td>17.2</td>\n",
       "      <td>341.4</td>\n",
       "    </tr>\n",
       "    <tr>\n",
       "      <th>2024-04-18</th>\n",
       "      <td>16.2</td>\n",
       "      <td>241.7</td>\n",
       "    </tr>\n",
       "    <tr>\n",
       "      <th>2024-04-20</th>\n",
       "      <td>16.9</td>\n",
       "      <td>292.4</td>\n",
       "    </tr>\n",
       "    <tr>\n",
       "      <th>2024-04-23</th>\n",
       "      <td>14.0</td>\n",
       "      <td>242.6</td>\n",
       "    </tr>\n",
       "  </tbody>\n",
       "</table>\n",
       "<p>217 rows × 2 columns</p>\n",
       "</div>"
      ],
      "text/plain": [
       "            windspeed  winddir\n",
       "datetime                      \n",
       "2021-01-04       18.4    292.2\n",
       "2021-01-09       15.4    330.5\n",
       "2021-01-21       21.7     85.6\n",
       "2021-02-10       13.6     46.0\n",
       "2021-02-13       16.6    117.2\n",
       "...               ...      ...\n",
       "2024-04-10       19.6    194.2\n",
       "2024-04-13       17.2    341.4\n",
       "2024-04-18       16.2    241.7\n",
       "2024-04-20       16.9    292.4\n",
       "2024-04-23       14.0    242.6\n",
       "\n",
       "[217 rows x 2 columns]"
      ]
     },
     "execution_count": 262,
     "metadata": {},
     "output_type": "execute_result"
    }
   ],
   "source": [
    "weather_df"
   ]
  },
  {
   "cell_type": "code",
   "execution_count": 263,
   "metadata": {},
   "outputs": [
    {
     "data": {
      "text/html": [
       "<div>\n",
       "<style scoped>\n",
       "    .dataframe tbody tr th:only-of-type {\n",
       "        vertical-align: middle;\n",
       "    }\n",
       "\n",
       "    .dataframe tbody tr th {\n",
       "        vertical-align: top;\n",
       "    }\n",
       "\n",
       "    .dataframe thead th {\n",
       "        text-align: right;\n",
       "    }\n",
       "</style>\n",
       "<table border=\"1\" class=\"dataframe\">\n",
       "  <thead>\n",
       "    <tr style=\"text-align: right;\">\n",
       "      <th></th>\n",
       "      <th>center_x_1</th>\n",
       "      <th>center_y_1</th>\n",
       "      <th>x_axis_length_1</th>\n",
       "      <th>y_axis_length_1</th>\n",
       "      <th>angle_1</th>\n",
       "      <th>center_x_2</th>\n",
       "      <th>center_y_2</th>\n",
       "      <th>x_axis_length_2</th>\n",
       "      <th>y_axis_length_2</th>\n",
       "      <th>angle_2</th>\n",
       "      <th>center_x_3</th>\n",
       "      <th>center_y_3</th>\n",
       "      <th>x_axis_length_3</th>\n",
       "      <th>y_axis_length_3</th>\n",
       "      <th>angle_3</th>\n",
       "    </tr>\n",
       "    <tr>\n",
       "      <th>datetime</th>\n",
       "      <th></th>\n",
       "      <th></th>\n",
       "      <th></th>\n",
       "      <th></th>\n",
       "      <th></th>\n",
       "      <th></th>\n",
       "      <th></th>\n",
       "      <th></th>\n",
       "      <th></th>\n",
       "      <th></th>\n",
       "      <th></th>\n",
       "      <th></th>\n",
       "      <th></th>\n",
       "      <th></th>\n",
       "      <th></th>\n",
       "    </tr>\n",
       "  </thead>\n",
       "  <tbody>\n",
       "    <tr>\n",
       "      <th>2021-01-04</th>\n",
       "      <td>704.028564</td>\n",
       "      <td>442.499176</td>\n",
       "      <td>121.826691</td>\n",
       "      <td>451.231567</td>\n",
       "      <td>58.160427</td>\n",
       "      <td>960.999756</td>\n",
       "      <td>336.523529</td>\n",
       "      <td>112.876732</td>\n",
       "      <td>203.835342</td>\n",
       "      <td>117.014908</td>\n",
       "      <td>1092.642456</td>\n",
       "      <td>257.937164</td>\n",
       "      <td>133.023499</td>\n",
       "      <td>147.132126</td>\n",
       "      <td>142.699448</td>\n",
       "    </tr>\n",
       "    <tr>\n",
       "      <th>2021-01-09</th>\n",
       "      <td>715.279602</td>\n",
       "      <td>351.457184</td>\n",
       "      <td>100.243324</td>\n",
       "      <td>367.353882</td>\n",
       "      <td>66.100555</td>\n",
       "      <td>807.207031</td>\n",
       "      <td>124.622177</td>\n",
       "      <td>54.882431</td>\n",
       "      <td>117.928635</td>\n",
       "      <td>119.937805</td>\n",
       "      <td>184.712097</td>\n",
       "      <td>572.285339</td>\n",
       "      <td>51.416313</td>\n",
       "      <td>93.895416</td>\n",
       "      <td>133.982315</td>\n",
       "    </tr>\n",
       "    <tr>\n",
       "      <th>2021-01-21</th>\n",
       "      <td>325.976746</td>\n",
       "      <td>490.977356</td>\n",
       "      <td>136.785980</td>\n",
       "      <td>500.891998</td>\n",
       "      <td>74.853523</td>\n",
       "      <td>813.122131</td>\n",
       "      <td>146.077484</td>\n",
       "      <td>87.973320</td>\n",
       "      <td>149.937958</td>\n",
       "      <td>163.590485</td>\n",
       "      <td>1233.187134</td>\n",
       "      <td>566.028442</td>\n",
       "      <td>8.314092</td>\n",
       "      <td>24.543709</td>\n",
       "      <td>143.964798</td>\n",
       "    </tr>\n",
       "    <tr>\n",
       "      <th>2021-02-10</th>\n",
       "      <td>167.179871</td>\n",
       "      <td>545.132202</td>\n",
       "      <td>91.021637</td>\n",
       "      <td>191.275513</td>\n",
       "      <td>108.308769</td>\n",
       "      <td>881.044556</td>\n",
       "      <td>144.769745</td>\n",
       "      <td>63.307846</td>\n",
       "      <td>291.755676</td>\n",
       "      <td>111.700424</td>\n",
       "      <td>592.362976</td>\n",
       "      <td>408.737030</td>\n",
       "      <td>60.006161</td>\n",
       "      <td>177.342026</td>\n",
       "      <td>67.738052</td>\n",
       "    </tr>\n",
       "    <tr>\n",
       "      <th>2021-02-13</th>\n",
       "      <td>280.800171</td>\n",
       "      <td>504.206818</td>\n",
       "      <td>134.417603</td>\n",
       "      <td>405.863342</td>\n",
       "      <td>72.619293</td>\n",
       "      <td>787.453369</td>\n",
       "      <td>126.050583</td>\n",
       "      <td>35.755112</td>\n",
       "      <td>48.203991</td>\n",
       "      <td>129.081055</td>\n",
       "      <td>918.028381</td>\n",
       "      <td>556.878296</td>\n",
       "      <td>14.486405</td>\n",
       "      <td>27.316944</td>\n",
       "      <td>2.405948</td>\n",
       "    </tr>\n",
       "    <tr>\n",
       "      <th>...</th>\n",
       "      <td>...</td>\n",
       "      <td>...</td>\n",
       "      <td>...</td>\n",
       "      <td>...</td>\n",
       "      <td>...</td>\n",
       "      <td>...</td>\n",
       "      <td>...</td>\n",
       "      <td>...</td>\n",
       "      <td>...</td>\n",
       "      <td>...</td>\n",
       "      <td>...</td>\n",
       "      <td>...</td>\n",
       "      <td>...</td>\n",
       "      <td>...</td>\n",
       "      <td>...</td>\n",
       "    </tr>\n",
       "    <tr>\n",
       "      <th>2024-04-10</th>\n",
       "      <td>1324.350586</td>\n",
       "      <td>422.794281</td>\n",
       "      <td>17.715271</td>\n",
       "      <td>51.442062</td>\n",
       "      <td>68.193947</td>\n",
       "      <td>1134.241943</td>\n",
       "      <td>220.593307</td>\n",
       "      <td>11.787232</td>\n",
       "      <td>39.232216</td>\n",
       "      <td>79.759109</td>\n",
       "      <td>1073.128418</td>\n",
       "      <td>207.650436</td>\n",
       "      <td>9.741089</td>\n",
       "      <td>55.922703</td>\n",
       "      <td>114.016281</td>\n",
       "    </tr>\n",
       "    <tr>\n",
       "      <th>2024-04-13</th>\n",
       "      <td>752.452454</td>\n",
       "      <td>289.341919</td>\n",
       "      <td>13.216461</td>\n",
       "      <td>32.141590</td>\n",
       "      <td>62.891289</td>\n",
       "      <td>714.009460</td>\n",
       "      <td>306.258728</td>\n",
       "      <td>7.657600</td>\n",
       "      <td>39.223877</td>\n",
       "      <td>66.653549</td>\n",
       "      <td>627.675842</td>\n",
       "      <td>413.542480</td>\n",
       "      <td>11.451272</td>\n",
       "      <td>24.320898</td>\n",
       "      <td>0.623103</td>\n",
       "    </tr>\n",
       "    <tr>\n",
       "      <th>2024-04-18</th>\n",
       "      <td>668.551453</td>\n",
       "      <td>445.496552</td>\n",
       "      <td>32.465782</td>\n",
       "      <td>66.018997</td>\n",
       "      <td>27.909737</td>\n",
       "      <td>237.793610</td>\n",
       "      <td>557.887268</td>\n",
       "      <td>6.805774</td>\n",
       "      <td>15.332954</td>\n",
       "      <td>112.110847</td>\n",
       "      <td>360.941437</td>\n",
       "      <td>496.977661</td>\n",
       "      <td>7.062338</td>\n",
       "      <td>13.159757</td>\n",
       "      <td>43.582386</td>\n",
       "    </tr>\n",
       "    <tr>\n",
       "      <th>2024-04-20</th>\n",
       "      <td>768.659729</td>\n",
       "      <td>94.758255</td>\n",
       "      <td>21.042046</td>\n",
       "      <td>71.317238</td>\n",
       "      <td>135.777664</td>\n",
       "      <td>832.362061</td>\n",
       "      <td>284.696594</td>\n",
       "      <td>7.747338</td>\n",
       "      <td>49.398838</td>\n",
       "      <td>177.851105</td>\n",
       "      <td>915.509277</td>\n",
       "      <td>569.841309</td>\n",
       "      <td>6.616477</td>\n",
       "      <td>22.889042</td>\n",
       "      <td>163.148788</td>\n",
       "    </tr>\n",
       "    <tr>\n",
       "      <th>2024-04-23</th>\n",
       "      <td>873.318604</td>\n",
       "      <td>219.364731</td>\n",
       "      <td>22.410845</td>\n",
       "      <td>70.093674</td>\n",
       "      <td>33.726776</td>\n",
       "      <td>901.462524</td>\n",
       "      <td>130.539688</td>\n",
       "      <td>11.096652</td>\n",
       "      <td>46.229904</td>\n",
       "      <td>90.841194</td>\n",
       "      <td>752.181458</td>\n",
       "      <td>74.622292</td>\n",
       "      <td>10.226819</td>\n",
       "      <td>26.630791</td>\n",
       "      <td>153.117569</td>\n",
       "    </tr>\n",
       "  </tbody>\n",
       "</table>\n",
       "<p>217 rows × 15 columns</p>\n",
       "</div>"
      ],
      "text/plain": [
       "             center_x_1  center_y_1  x_axis_length_1  y_axis_length_1  \\\n",
       "datetime                                                                \n",
       "2021-01-04   704.028564  442.499176       121.826691       451.231567   \n",
       "2021-01-09   715.279602  351.457184       100.243324       367.353882   \n",
       "2021-01-21   325.976746  490.977356       136.785980       500.891998   \n",
       "2021-02-10   167.179871  545.132202        91.021637       191.275513   \n",
       "2021-02-13   280.800171  504.206818       134.417603       405.863342   \n",
       "...                 ...         ...              ...              ...   \n",
       "2024-04-10  1324.350586  422.794281        17.715271        51.442062   \n",
       "2024-04-13   752.452454  289.341919        13.216461        32.141590   \n",
       "2024-04-18   668.551453  445.496552        32.465782        66.018997   \n",
       "2024-04-20   768.659729   94.758255        21.042046        71.317238   \n",
       "2024-04-23   873.318604  219.364731        22.410845        70.093674   \n",
       "\n",
       "               angle_1   center_x_2  center_y_2  x_axis_length_2  \\\n",
       "datetime                                                           \n",
       "2021-01-04   58.160427   960.999756  336.523529       112.876732   \n",
       "2021-01-09   66.100555   807.207031  124.622177        54.882431   \n",
       "2021-01-21   74.853523   813.122131  146.077484        87.973320   \n",
       "2021-02-10  108.308769   881.044556  144.769745        63.307846   \n",
       "2021-02-13   72.619293   787.453369  126.050583        35.755112   \n",
       "...                ...          ...         ...              ...   \n",
       "2024-04-10   68.193947  1134.241943  220.593307        11.787232   \n",
       "2024-04-13   62.891289   714.009460  306.258728         7.657600   \n",
       "2024-04-18   27.909737   237.793610  557.887268         6.805774   \n",
       "2024-04-20  135.777664   832.362061  284.696594         7.747338   \n",
       "2024-04-23   33.726776   901.462524  130.539688        11.096652   \n",
       "\n",
       "            y_axis_length_2     angle_2   center_x_3  center_y_3  \\\n",
       "datetime                                                           \n",
       "2021-01-04       203.835342  117.014908  1092.642456  257.937164   \n",
       "2021-01-09       117.928635  119.937805   184.712097  572.285339   \n",
       "2021-01-21       149.937958  163.590485  1233.187134  566.028442   \n",
       "2021-02-10       291.755676  111.700424   592.362976  408.737030   \n",
       "2021-02-13        48.203991  129.081055   918.028381  556.878296   \n",
       "...                     ...         ...          ...         ...   \n",
       "2024-04-10        39.232216   79.759109  1073.128418  207.650436   \n",
       "2024-04-13        39.223877   66.653549   627.675842  413.542480   \n",
       "2024-04-18        15.332954  112.110847   360.941437  496.977661   \n",
       "2024-04-20        49.398838  177.851105   915.509277  569.841309   \n",
       "2024-04-23        46.229904   90.841194   752.181458   74.622292   \n",
       "\n",
       "            x_axis_length_3  y_axis_length_3     angle_3  \n",
       "datetime                                                  \n",
       "2021-01-04       133.023499       147.132126  142.699448  \n",
       "2021-01-09        51.416313        93.895416  133.982315  \n",
       "2021-01-21         8.314092        24.543709  143.964798  \n",
       "2021-02-10        60.006161       177.342026   67.738052  \n",
       "2021-02-13        14.486405        27.316944    2.405948  \n",
       "...                     ...              ...         ...  \n",
       "2024-04-10         9.741089        55.922703  114.016281  \n",
       "2024-04-13        11.451272        24.320898    0.623103  \n",
       "2024-04-18         7.062338        13.159757   43.582386  \n",
       "2024-04-20         6.616477        22.889042  163.148788  \n",
       "2024-04-23        10.226819        26.630791  153.117569  \n",
       "\n",
       "[217 rows x 15 columns]"
      ]
     },
     "execution_count": 263,
     "metadata": {},
     "output_type": "execute_result"
    }
   ],
   "source": [
    "images_df"
   ]
  },
  {
   "cell_type": "markdown",
   "metadata": {},
   "source": [
    "#### 2. Preparing our data"
   ]
  },
  {
   "cell_type": "code",
   "execution_count": 264,
   "metadata": {},
   "outputs": [
    {
     "name": "stdout",
     "output_type": "stream",
     "text": [
      "Training data rows: 195, Test data rows: 22\n"
     ]
    }
   ],
   "source": [
    "from sklearn.model_selection import train_test_split\n",
    "from sklearn.metrics import mean_squared_error, mean_absolute_error\n",
    "\n",
    "result: list[pd.DataFrame] = train_test_split(weather_df, images_df, test_size=0.1, random_state=69, shuffle=False)\n",
    "X_train: pd.DataFrame = result[0]\n",
    "X_valid: pd.DataFrame = result[1]\n",
    "y_train: pd.DataFrame = result[2]\n",
    "y_valid: pd.DataFrame = result[3]\n",
    "\n",
    "print(f\"Training data rows: {len(X_train)}, Test data rows: {len(X_valid)}\")"
   ]
  },
  {
   "cell_type": "code",
   "execution_count": 265,
   "metadata": {},
   "outputs": [],
   "source": [
    "def print_metrics(actual, prediction, data_type) -> None:\n",
    "    print(\"Mean Squared Error, Root Mean Squared Error, Mean Absolute Error (perfect = 0.0)\")\n",
    "    print(f\"{data_type} DATA: MSE: {mean_squared_error(actual, prediction)}\")\n",
    "    print(f\"{data_type} DATA: RMSE: {mean_squared_error(actual, prediction, squared=False)}\")\n",
    "    print(f\"{data_type} DATA: MAE: {mean_absolute_error(actual, prediction)}\\n\")"
   ]
  },
  {
   "cell_type": "markdown",
   "metadata": {},
   "source": [
    "#### 3. Testing different types of regression models"
   ]
  },
  {
   "cell_type": "markdown",
   "metadata": {},
   "source": [
    "##### 3.1. Decision Tree Regressor"
   ]
  },
  {
   "cell_type": "code",
   "execution_count": 266,
   "metadata": {},
   "outputs": [
    {
     "name": "stdout",
     "output_type": "stream",
     "text": [
      "Mean Squared Error, Root Mean Squared Error, Mean Absolute Error (perfect = 0.0)\n",
      "KNOWN DATA: MSE: 30328.38194337756\n",
      "KNOWN DATA: RMSE: 136.26920459776045\n",
      "KNOWN DATA: MAE: 109.17692018613012\n",
      "\n",
      "Mean Squared Error, Root Mean Squared Error, Mean Absolute Error (perfect = 0.0)\n",
      "NEW DATA: MSE: 27091.329001823015\n",
      "NEW DATA: RMSE: 130.97358770167867\n",
      "NEW DATA: MAE: 106.9764585669701\n",
      "\n"
     ]
    }
   ],
   "source": [
    "from sklearn.tree import DecisionTreeRegressor\n",
    "\n",
    "tree_model = DecisionTreeRegressor(min_samples_leaf=5, min_weight_fraction_leaf=0.2)\n",
    "\n",
    "tree_model.fit(X_train, y_train)\n",
    "\n",
    "tree_y_pred: np.ndarray = tree_model.predict(X_train)\n",
    "print_metrics(y_train, tree_y_pred, \"KNOWN\")\n",
    "\n",
    "tree_y_pred: np.ndarray = tree_model.predict(X_valid)\n",
    "print_metrics(y_valid, tree_y_pred, \"NEW\")"
   ]
  },
  {
   "cell_type": "markdown",
   "metadata": {},
   "source": [
    "Hyperparamter tuning is found empiracally to be a good balance between being to correctly identify known data and handle new data.\n",
    "The problem however is that we have very little data for training and validating.\n",
    "\n",
    "##### Non-default hyperparameters:\n",
    "\n",
    "- min_samples_leaf (default=1): The minimum number of samples required to be at a leaf node. A split point at any depth will only be considered if it leaves at least min_samples_leaf training samples in each of the left and right branches. This may have the effect of smoothing the model, especially in regression.\n",
    "\n",
    "- min_weight_fraction_leaf (default=0.0): The minimum weighted fraction of the sum total of weights (of all the input samples) required to be at a leaf node. Samples have equal weight when sample_weight is not provided.\n",
    "\n",
    "\n",
    "[scikit-learn DecisionTreeRegressor](https://scikit-learn.org/stable/modules/generated/sklearn.tree.DecisionTreeRegressor.html)"
   ]
  },
  {
   "cell_type": "markdown",
   "metadata": {},
   "source": [
    "##### 3.2. Random Forest Regressor"
   ]
  },
  {
   "cell_type": "code",
   "execution_count": 267,
   "metadata": {},
   "outputs": [
    {
     "name": "stdout",
     "output_type": "stream",
     "text": [
      "Mean Squared Error, Root Mean Squared Error, Mean Absolute Error (perfect = 0.0)\n",
      "KNOWN DATA: MSE: 29756.166854553787\n",
      "KNOWN DATA: RMSE: 135.08064005352622\n",
      "KNOWN DATA: MAE: 108.63445739855385\n",
      "\n",
      "Mean Squared Error, Root Mean Squared Error, Mean Absolute Error (perfect = 0.0)\n",
      "NEW DATA: MSE: 26457.996264826143\n",
      "NEW DATA: RMSE: 129.79570598325796\n",
      "NEW DATA: MAE: 105.735142106958\n",
      "\n"
     ]
    }
   ],
   "source": [
    "from sklearn.ensemble import RandomForestRegressor\n",
    "\n",
    "forest_model = RandomForestRegressor(min_samples_leaf=5, min_weight_fraction_leaf=0.2, bootstrap=True)\n",
    "# forest_model = RandomForestRegressor()\n",
    "\n",
    "forest_model.fit(X_train, y_train)\n",
    "\n",
    "forest_y_pred: np.ndarray = forest_model.predict(X_train)\n",
    "print_metrics(y_train, forest_y_pred, \"KNOWN\")\n",
    "\n",
    "forest_y_pred: np.ndarray = forest_model.predict(X_valid)\n",
    "print_metrics(y_valid, forest_y_pred, \"NEW\")"
   ]
  },
  {
   "cell_type": "markdown",
   "metadata": {},
   "source": [
    "##### Non-default hyperparameters:\n",
    "\n",
    "- min_samples_leaf (default=1): The minimum number of samples required to be at a leaf node. A split point at any depth will only be considered if it leaves at least min_samples_leaf training samples in each of the left and right branches. This may have the effect of smoothing the model, especially in regression.\n",
    "- min_weight_fraction_leaf (default=0.0): The minimum weighted fraction of the sum total of weights (of all the input samples) required to be at a leaf node. Samples have equal weight when sample_weight is not provided.\n",
    "- bootstrap: Whether bootstrap samples are used when building trees. If False, the whole dataset is used to build each tree.\n",
    "\n",
    "[scikit-learn RandomForestRegressor](https://scikit-learn.org/stable/modules/generated/sklearn.ensemble.RandomForestRegressor.html)"
   ]
  },
  {
   "cell_type": "markdown",
   "metadata": {},
   "source": [
    "##### 3.3. Linear Regressor"
   ]
  },
  {
   "cell_type": "code",
   "execution_count": 268,
   "metadata": {},
   "outputs": [
    {
     "name": "stdout",
     "output_type": "stream",
     "text": [
      "Mean Squared Error, Root Mean Squared Error, Mean Absolute Error (perfect = 0.0)\n",
      "KNOWN DATA: MSE: 31984.128734162332\n",
      "KNOWN DATA: RMSE: 139.22310287897565\n",
      "KNOWN DATA: MAE: 112.97119338897396\n",
      "\n",
      "Mean Squared Error, Root Mean Squared Error, Mean Absolute Error (perfect = 0.0)\n",
      "NEW DATA: MSE: 25639.46828302515\n",
      "NEW DATA: RMSE: 128.1039115737395\n",
      "NEW DATA: MAE: 104.74038338867645\n",
      "\n"
     ]
    }
   ],
   "source": [
    "from sklearn.linear_model import LinearRegression\n",
    "\n",
    "linear_model = LinearRegression(positive=True)\n",
    "\n",
    "linear_model.fit(X_train, y_train)\n",
    "\n",
    "linear_y_pred: np.ndarray = linear_model.predict(X_train)\n",
    "print_metrics(y_train, linear_y_pred, \"KNOWN\")\n",
    "\n",
    "linear_y_pred: np.ndarray = linear_model.predict(X_valid)\n",
    "print_metrics(y_valid, linear_y_pred, \"NEW\")"
   ]
  },
  {
   "cell_type": "markdown",
   "metadata": {},
   "source": [
    "##### Non-default hyperparameters:\n",
    "\n",
    "- positive (default=False): When set to True, forces the coefficients to be positive. This option is only supported for dense arrays.\n",
    "\n",
    "[scikit-learn LinearRegression](https://scikit-learn.org/stable/modules/generated/sklearn.linear_model.LinearRegression.html)"
   ]
  },
  {
   "cell_type": "markdown",
   "metadata": {},
   "source": [
    "##### 3.4. Nearest Neighbour Regressor"
   ]
  },
  {
   "cell_type": "code",
   "execution_count": 269,
   "metadata": {},
   "outputs": [
    {
     "name": "stdout",
     "output_type": "stream",
     "text": [
      "Mean Squared Error, Root Mean Squared Error, Mean Absolute Error (perfect = 0.0)\n",
      "KNOWN DATA: MSE: 27381.96932025689\n",
      "KNOWN DATA: RMSE: 129.11238810459676\n",
      "KNOWN DATA: MAE: 102.93008175077603\n",
      "\n",
      "Mean Squared Error, Root Mean Squared Error, Mean Absolute Error (perfect = 0.0)\n",
      "NEW DATA: MSE: 29196.56018815573\n",
      "NEW DATA: RMSE: 136.704882419424\n",
      "NEW DATA: MAE: 113.3405628975594\n",
      "\n"
     ]
    }
   ],
   "source": [
    "from sklearn.neighbors import KNeighborsRegressor\n",
    "\n",
    "neighbour_model = KNeighborsRegressor(n_neighbors=8)\n",
    "\n",
    "neighbour_model.fit(X_train, y_train)\n",
    "\n",
    "neighbour_y_pred: np.ndarray = neighbour_model.predict(X_train)\n",
    "print_metrics(y_train, neighbour_y_pred, \"KNOWN\")\n",
    "\n",
    "neighbour_y_pred: np.ndarray = neighbour_model.predict(X_valid)\n",
    "print_metrics(y_valid, neighbour_y_pred, \"NEW\")"
   ]
  },
  {
   "cell_type": "markdown",
   "metadata": {},
   "source": [
    "##### Non-default hyperparameters:\n",
    "\n",
    "- n_neighbours (default=5): Number of neighbors to use by default for kneighbors queries.\n",
    "\n",
    "[scikit-learn KNeighboursRegressor](https://scikit-learn.org/stable/modules/generated/sklearn.neighbors.KNeighborsRegressor.html)"
   ]
  },
  {
   "cell_type": "markdown",
   "metadata": {},
   "source": [
    "##### 3.5. Multi-Layer Perceptron (MLP) Regressor"
   ]
  },
  {
   "cell_type": "code",
   "execution_count": 270,
   "metadata": {},
   "outputs": [
    {
     "name": "stdout",
     "output_type": "stream",
     "text": [
      "Mean Squared Error, Root Mean Squared Error, Mean Absolute Error (perfect = 0.0)\n",
      "KNOWN DATA: MSE: 40173.402057024774\n",
      "KNOWN DATA: RMSE: 154.7288386838697\n",
      "KNOWN DATA: MAE: 125.27895480125989\n",
      "\n",
      "Mean Squared Error, Root Mean Squared Error, Mean Absolute Error (perfect = 0.0)\n",
      "NEW DATA: MSE: 32793.71447499805\n",
      "NEW DATA: RMSE: 145.66874306973276\n",
      "NEW DATA: MAE: 116.01525308698764\n",
      "\n"
     ]
    }
   ],
   "source": [
    "from sklearn.neural_network import MLPRegressor\n",
    "\n",
    "# mlp_model = MLPRegressor(hidden_layer_sizes=50000)\n",
    "mlp_model = MLPRegressor(solver=\"lbfgs\")\n",
    "\n",
    "mlp_model.fit(X_train, y_train)\n",
    "\n",
    "mlp_y_pred: np.ndarray = mlp_model.predict(X_train)\n",
    "print_metrics(y_train, mlp_y_pred, \"KNOWN\")\n",
    "\n",
    "mlp_y_pred: np.ndarray = mlp_model.predict(X_valid)\n",
    "print_metrics(y_valid, mlp_y_pred, \"NEW\")"
   ]
  },
  {
   "cell_type": "code",
   "execution_count": 271,
   "metadata": {},
   "outputs": [
    {
     "name": "stdout",
     "output_type": "stream",
     "text": [
      "Mean Squared Error, Root Mean Squared Error, Mean Absolute Error (perfect = 0.0)\n",
      "KNOWN DATA: MSE: 41635.39144129535\n",
      "KNOWN DATA: RMSE: 156.24837889454292\n",
      "KNOWN DATA: MAE: 126.19859863085487\n",
      "\n",
      "Mean Squared Error, Root Mean Squared Error, Mean Absolute Error (perfect = 0.0)\n",
      "NEW DATA: MSE: 33773.9289038194\n",
      "NEW DATA: RMSE: 146.93868569958218\n",
      "NEW DATA: MAE: 118.02405869960255\n",
      "\n"
     ]
    }
   ],
   "source": [
    "mlp_model = MLPRegressor(solver=\"lbfgs\")\n",
    "\n",
    "mlp_model.fit(X_train, y_train)\n",
    "\n",
    "mlp_y_pred: np.ndarray = mlp_model.predict(X_train)\n",
    "print_metrics(y_train, mlp_y_pred, \"KNOWN\")\n",
    "\n",
    "mlp_y_pred: np.ndarray = mlp_model.predict(X_valid)\n",
    "print_metrics(y_valid, mlp_y_pred, \"NEW\")"
   ]
  },
  {
   "cell_type": "markdown",
   "metadata": {},
   "source": [
    "##### Non-default hyperparameters:\n",
    "\n",
    "- solver (default=\"adam\"): The solver for weight optimization. ‘lbfgs’ is an optimizer in the family of quasi-Newton methods. ‘sgd’ refers to stochastic gradient descent. ‘adam’ refers to a stochastic gradient-based optimizer proposed by Kingma, Diederik, and Jimmy Ba. Note: The default solver ‘adam’ works pretty well on relatively large datasets (with thousands of training samples or more) in terms of both training time and validation score. For small datasets, however, ‘lbfgs’ can converge faster and perform better.\n"
   ]
  },
  {
   "cell_type": "code",
   "execution_count": 272,
   "metadata": {},
   "outputs": [],
   "source": [
    "from sktime.forecasting.naive import NaiveForecaster\n",
    "from sktime.forecasting.neuralforecast import NeuralForecastRNN\n",
    "\n",
    "import prophet"
   ]
  },
  {
   "cell_type": "code",
   "execution_count": 273,
   "metadata": {},
   "outputs": [],
   "source": [
    "naive_model = NaiveForecaster(strategy=\"last\")\n",
    "\n"
   ]
  },
  {
   "cell_type": "code",
   "execution_count": 274,
   "metadata": {},
   "outputs": [],
   "source": [
    "rnn_model = NeuralForecastRNN()"
   ]
  },
  {
   "cell_type": "code",
   "execution_count": null,
   "metadata": {},
   "outputs": [],
   "source": []
  }
 ],
 "metadata": {
  "kernelspec": {
   "display_name": "Python 3",
   "language": "python",
   "name": "python3"
  },
  "language_info": {
   "codemirror_mode": {
    "name": "ipython",
    "version": 3
   },
   "file_extension": ".py",
   "mimetype": "text/x-python",
   "name": "python",
   "nbconvert_exporter": "python",
   "pygments_lexer": "ipython3",
   "version": "3.10.12"
  }
 },
 "nbformat": 4,
 "nbformat_minor": 2
}
