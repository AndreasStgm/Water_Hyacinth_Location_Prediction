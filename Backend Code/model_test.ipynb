{
 "cells": [
  {
   "cell_type": "code",
   "execution_count": 113,
   "metadata": {},
   "outputs": [],
   "source": [
    "import pandas as pd\n",
    "import numpy as np\n",
    "\n",
    "import warnings\n",
    "warnings.filterwarnings(\"ignore\")"
   ]
  },
  {
   "cell_type": "markdown",
   "metadata": {},
   "source": [
    "#### 1. Loading in our data"
   ]
  },
  {
   "cell_type": "code",
   "execution_count": 114,
   "metadata": {},
   "outputs": [],
   "source": [
    "weather_df: pd.DataFrame = pd.read_feather(\"./training_data/processed_data/preprocessed_weather_hartbeespoort.feather\")\n",
    "images_df: pd.DataFrame = pd.read_feather(\"./training_data/processed_data/preprocessed_image_test.feather\")"
   ]
  },
  {
   "cell_type": "code",
   "execution_count": 115,
   "metadata": {},
   "outputs": [
    {
     "data": {
      "text/html": [
       "<div>\n",
       "<style scoped>\n",
       "    .dataframe tbody tr th:only-of-type {\n",
       "        vertical-align: middle;\n",
       "    }\n",
       "\n",
       "    .dataframe tbody tr th {\n",
       "        vertical-align: top;\n",
       "    }\n",
       "\n",
       "    .dataframe thead th {\n",
       "        text-align: right;\n",
       "    }\n",
       "</style>\n",
       "<table border=\"1\" class=\"dataframe\">\n",
       "  <thead>\n",
       "    <tr style=\"text-align: right;\">\n",
       "      <th></th>\n",
       "      <th>windspeed</th>\n",
       "      <th>winddir</th>\n",
       "    </tr>\n",
       "    <tr>\n",
       "      <th>datetime</th>\n",
       "      <th></th>\n",
       "      <th></th>\n",
       "    </tr>\n",
       "  </thead>\n",
       "  <tbody>\n",
       "    <tr>\n",
       "      <th>2023-01-04</th>\n",
       "      <td>19.1</td>\n",
       "      <td>292.4</td>\n",
       "    </tr>\n",
       "    <tr>\n",
       "      <th>2023-01-09</th>\n",
       "      <td>15.4</td>\n",
       "      <td>325.7</td>\n",
       "    </tr>\n",
       "    <tr>\n",
       "      <th>2023-01-11</th>\n",
       "      <td>23.8</td>\n",
       "      <td>69.0</td>\n",
       "    </tr>\n",
       "    <tr>\n",
       "      <th>2023-01-14</th>\n",
       "      <td>11.6</td>\n",
       "      <td>38.4</td>\n",
       "    </tr>\n",
       "    <tr>\n",
       "      <th>2023-01-16</th>\n",
       "      <td>16.3</td>\n",
       "      <td>47.8</td>\n",
       "    </tr>\n",
       "    <tr>\n",
       "      <th>...</th>\n",
       "      <td>...</td>\n",
       "      <td>...</td>\n",
       "    </tr>\n",
       "    <tr>\n",
       "      <th>2024-04-10</th>\n",
       "      <td>19.6</td>\n",
       "      <td>194.2</td>\n",
       "    </tr>\n",
       "    <tr>\n",
       "      <th>2024-04-13</th>\n",
       "      <td>17.2</td>\n",
       "      <td>341.4</td>\n",
       "    </tr>\n",
       "    <tr>\n",
       "      <th>2024-04-18</th>\n",
       "      <td>16.2</td>\n",
       "      <td>241.7</td>\n",
       "    </tr>\n",
       "    <tr>\n",
       "      <th>2024-04-20</th>\n",
       "      <td>16.9</td>\n",
       "      <td>292.4</td>\n",
       "    </tr>\n",
       "    <tr>\n",
       "      <th>2024-04-23</th>\n",
       "      <td>14.0</td>\n",
       "      <td>242.6</td>\n",
       "    </tr>\n",
       "  </tbody>\n",
       "</table>\n",
       "<p>122 rows × 2 columns</p>\n",
       "</div>"
      ],
      "text/plain": [
       "            windspeed  winddir\n",
       "datetime                      \n",
       "2023-01-04       19.1    292.4\n",
       "2023-01-09       15.4    325.7\n",
       "2023-01-11       23.8     69.0\n",
       "2023-01-14       11.6     38.4\n",
       "2023-01-16       16.3     47.8\n",
       "...               ...      ...\n",
       "2024-04-10       19.6    194.2\n",
       "2024-04-13       17.2    341.4\n",
       "2024-04-18       16.2    241.7\n",
       "2024-04-20       16.9    292.4\n",
       "2024-04-23       14.0    242.6\n",
       "\n",
       "[122 rows x 2 columns]"
      ]
     },
     "execution_count": 115,
     "metadata": {},
     "output_type": "execute_result"
    }
   ],
   "source": [
    "weather_df"
   ]
  },
  {
   "cell_type": "code",
   "execution_count": 116,
   "metadata": {},
   "outputs": [
    {
     "data": {
      "text/html": [
       "<div>\n",
       "<style scoped>\n",
       "    .dataframe tbody tr th:only-of-type {\n",
       "        vertical-align: middle;\n",
       "    }\n",
       "\n",
       "    .dataframe tbody tr th {\n",
       "        vertical-align: top;\n",
       "    }\n",
       "\n",
       "    .dataframe thead th {\n",
       "        text-align: right;\n",
       "    }\n",
       "</style>\n",
       "<table border=\"1\" class=\"dataframe\">\n",
       "  <thead>\n",
       "    <tr style=\"text-align: right;\">\n",
       "      <th></th>\n",
       "      <th>center_x_1</th>\n",
       "      <th>center_y_1</th>\n",
       "      <th>x_axis_length_1</th>\n",
       "      <th>y_axis_length_1</th>\n",
       "      <th>angle_1</th>\n",
       "    </tr>\n",
       "    <tr>\n",
       "      <th>datetime</th>\n",
       "      <th></th>\n",
       "      <th></th>\n",
       "      <th></th>\n",
       "      <th></th>\n",
       "      <th></th>\n",
       "    </tr>\n",
       "  </thead>\n",
       "  <tbody>\n",
       "    <tr>\n",
       "      <th>2023-01-04</th>\n",
       "      <td>774.568298</td>\n",
       "      <td>464.119568</td>\n",
       "      <td>291.609772</td>\n",
       "      <td>653.578308</td>\n",
       "      <td>73.510216</td>\n",
       "    </tr>\n",
       "    <tr>\n",
       "      <th>2023-01-09</th>\n",
       "      <td>646.504028</td>\n",
       "      <td>420.321869</td>\n",
       "      <td>278.589264</td>\n",
       "      <td>730.667725</td>\n",
       "      <td>82.895424</td>\n",
       "    </tr>\n",
       "    <tr>\n",
       "      <th>2023-01-11</th>\n",
       "      <td>863.524353</td>\n",
       "      <td>387.239929</td>\n",
       "      <td>464.276306</td>\n",
       "      <td>597.633362</td>\n",
       "      <td>20.470768</td>\n",
       "    </tr>\n",
       "    <tr>\n",
       "      <th>2023-01-14</th>\n",
       "      <td>906.893433</td>\n",
       "      <td>383.717712</td>\n",
       "      <td>466.869843</td>\n",
       "      <td>570.567200</td>\n",
       "      <td>66.743622</td>\n",
       "    </tr>\n",
       "    <tr>\n",
       "      <th>2023-01-16</th>\n",
       "      <td>624.036072</td>\n",
       "      <td>339.108948</td>\n",
       "      <td>325.282562</td>\n",
       "      <td>731.776062</td>\n",
       "      <td>57.742481</td>\n",
       "    </tr>\n",
       "    <tr>\n",
       "      <th>...</th>\n",
       "      <td>...</td>\n",
       "      <td>...</td>\n",
       "      <td>...</td>\n",
       "      <td>...</td>\n",
       "      <td>...</td>\n",
       "    </tr>\n",
       "    <tr>\n",
       "      <th>2024-04-10</th>\n",
       "      <td>1324.350586</td>\n",
       "      <td>422.794281</td>\n",
       "      <td>17.715271</td>\n",
       "      <td>51.442062</td>\n",
       "      <td>68.193947</td>\n",
       "    </tr>\n",
       "    <tr>\n",
       "      <th>2024-04-13</th>\n",
       "      <td>752.452454</td>\n",
       "      <td>289.341919</td>\n",
       "      <td>13.216461</td>\n",
       "      <td>32.141590</td>\n",
       "      <td>62.891289</td>\n",
       "    </tr>\n",
       "    <tr>\n",
       "      <th>2024-04-18</th>\n",
       "      <td>668.551453</td>\n",
       "      <td>445.496552</td>\n",
       "      <td>32.465782</td>\n",
       "      <td>66.018997</td>\n",
       "      <td>27.909737</td>\n",
       "    </tr>\n",
       "    <tr>\n",
       "      <th>2024-04-20</th>\n",
       "      <td>768.659729</td>\n",
       "      <td>94.758255</td>\n",
       "      <td>21.042046</td>\n",
       "      <td>71.317238</td>\n",
       "      <td>135.777664</td>\n",
       "    </tr>\n",
       "    <tr>\n",
       "      <th>2024-04-23</th>\n",
       "      <td>873.318604</td>\n",
       "      <td>219.364731</td>\n",
       "      <td>22.410845</td>\n",
       "      <td>70.093674</td>\n",
       "      <td>33.726776</td>\n",
       "    </tr>\n",
       "  </tbody>\n",
       "</table>\n",
       "<p>122 rows × 5 columns</p>\n",
       "</div>"
      ],
      "text/plain": [
       "             center_x_1  center_y_1  x_axis_length_1  y_axis_length_1  \\\n",
       "datetime                                                                \n",
       "2023-01-04   774.568298  464.119568       291.609772       653.578308   \n",
       "2023-01-09   646.504028  420.321869       278.589264       730.667725   \n",
       "2023-01-11   863.524353  387.239929       464.276306       597.633362   \n",
       "2023-01-14   906.893433  383.717712       466.869843       570.567200   \n",
       "2023-01-16   624.036072  339.108948       325.282562       731.776062   \n",
       "...                 ...         ...              ...              ...   \n",
       "2024-04-10  1324.350586  422.794281        17.715271        51.442062   \n",
       "2024-04-13   752.452454  289.341919        13.216461        32.141590   \n",
       "2024-04-18   668.551453  445.496552        32.465782        66.018997   \n",
       "2024-04-20   768.659729   94.758255        21.042046        71.317238   \n",
       "2024-04-23   873.318604  219.364731        22.410845        70.093674   \n",
       "\n",
       "               angle_1  \n",
       "datetime                \n",
       "2023-01-04   73.510216  \n",
       "2023-01-09   82.895424  \n",
       "2023-01-11   20.470768  \n",
       "2023-01-14   66.743622  \n",
       "2023-01-16   57.742481  \n",
       "...                ...  \n",
       "2024-04-10   68.193947  \n",
       "2024-04-13   62.891289  \n",
       "2024-04-18   27.909737  \n",
       "2024-04-20  135.777664  \n",
       "2024-04-23   33.726776  \n",
       "\n",
       "[122 rows x 5 columns]"
      ]
     },
     "execution_count": 116,
     "metadata": {},
     "output_type": "execute_result"
    }
   ],
   "source": [
    "images_df"
   ]
  },
  {
   "cell_type": "markdown",
   "metadata": {},
   "source": [
    "#### 2. Preparing our data"
   ]
  },
  {
   "cell_type": "code",
   "execution_count": 117,
   "metadata": {},
   "outputs": [
    {
     "name": "stdout",
     "output_type": "stream",
     "text": [
      "Training data rows: 109, Test data rows: 13\n"
     ]
    }
   ],
   "source": [
    "from sklearn.model_selection import train_test_split\n",
    "from sklearn.metrics import mean_squared_error, mean_absolute_error\n",
    "\n",
    "result: list[pd.DataFrame] = train_test_split(weather_df, images_df, test_size=0.1, random_state=69, shuffle=False)\n",
    "X_train: pd.DataFrame = result[0]\n",
    "X_valid: pd.DataFrame = result[1]\n",
    "y_train: pd.DataFrame = result[2]\n",
    "y_valid: pd.DataFrame = result[3]\n",
    "\n",
    "print(f\"Training data rows: {len(X_train)}, Test data rows: {len(X_valid)}\")"
   ]
  },
  {
   "cell_type": "code",
   "execution_count": 118,
   "metadata": {},
   "outputs": [],
   "source": [
    "def print_metrics(actual, prediction, data_type) -> None:\n",
    "    print(\"Mean Squared Error, Root Mean Squared Error, Mean Absolute Error (perfect = 0.0)\")\n",
    "    print(f\"{data_type} DATA: MSE: {mean_squared_error(actual, prediction)}\")\n",
    "    print(f\"{data_type} DATA: RMSE: {mean_squared_error(actual, prediction, squared=False)}\")\n",
    "    print(f\"{data_type} DATA: MAE: {mean_absolute_error(actual, prediction)}\\n\")"
   ]
  },
  {
   "cell_type": "markdown",
   "metadata": {},
   "source": [
    "#### 3. Testing different types of regression models"
   ]
  },
  {
   "cell_type": "markdown",
   "metadata": {},
   "source": [
    "##### 3.1. Decision Tree Regressor"
   ]
  },
  {
   "cell_type": "code",
   "execution_count": 119,
   "metadata": {},
   "outputs": [
    {
     "name": "stdout",
     "output_type": "stream",
     "text": [
      "Mean Squared Error, Root Mean Squared Error, Mean Absolute Error (perfect = 0.0)\n",
      "KNOWN DATA: MSE: 32043.18515966367\n",
      "KNOWN DATA: RMSE: 161.4592185193721\n",
      "KNOWN DATA: MAE: 138.59284102011105\n",
      "\n",
      "Mean Squared Error, Root Mean Squared Error, Mean Absolute Error (perfect = 0.0)\n",
      "NEW DATA: MSE: 28839.059434411603\n",
      "NEW DATA: RMSE: 151.53751660503704\n",
      "NEW DATA: MAE: 132.44716979524563\n",
      "\n"
     ]
    }
   ],
   "source": [
    "from sklearn.tree import DecisionTreeRegressor\n",
    "\n",
    "tree_model = DecisionTreeRegressor(min_samples_leaf=5, min_weight_fraction_leaf=0.2)\n",
    "\n",
    "tree_model.fit(X_train, y_train)\n",
    "\n",
    "tree_y_pred: np.ndarray = tree_model.predict(X_train)\n",
    "print_metrics(y_train, tree_y_pred, \"KNOWN\")\n",
    "\n",
    "tree_y_pred: np.ndarray = tree_model.predict(X_valid)\n",
    "print_metrics(y_valid, tree_y_pred, \"NEW\")"
   ]
  },
  {
   "cell_type": "markdown",
   "metadata": {},
   "source": [
    "Hyperparamter tuning is found empiracally to be a good balance between being to correctly identify known data and handle new data.\n",
    "The problem however is that we have very little data for training and validating.\n",
    "\n",
    "- min_samples_leaf: The minimum number of samples required to be at a leaf node. A split point at any depth will only be considered if it leaves at least min_samples_leaf training samples in each of the left and right branches. This may have the effect of smoothing the model, especially in regression.\n",
    "- min_weight_fraction_leaf: The minimum weighted fraction of the sum total of weights (of all the input samples) required to be at a leaf node. Samples have equal weight when sample_weight is not provided.\n",
    "\n",
    "[scikit-learn DecisionTreeRegressor](https://scikit-learn.org/stable/modules/generated/sklearn.tree.DecisionTreeRegressor.html)"
   ]
  },
  {
   "cell_type": "markdown",
   "metadata": {},
   "source": [
    "##### 3.2. Random Forest Regressor"
   ]
  },
  {
   "cell_type": "code",
   "execution_count": 120,
   "metadata": {},
   "outputs": [
    {
     "name": "stdout",
     "output_type": "stream",
     "text": [
      "Mean Squared Error, Root Mean Squared Error, Mean Absolute Error (perfect = 0.0)\n",
      "KNOWN DATA: MSE: 30571.456668111925\n",
      "KNOWN DATA: RMSE: 157.46129864366827\n",
      "KNOWN DATA: MAE: 134.5279319875471\n",
      "\n",
      "Mean Squared Error, Root Mean Squared Error, Mean Absolute Error (perfect = 0.0)\n",
      "NEW DATA: MSE: 33181.50205269339\n",
      "NEW DATA: RMSE: 162.20623502835264\n",
      "NEW DATA: MAE: 141.8095404589318\n",
      "\n"
     ]
    }
   ],
   "source": [
    "from sklearn.ensemble import RandomForestRegressor\n",
    "\n",
    "forest_model = RandomForestRegressor(min_samples_leaf=5, min_weight_fraction_leaf=0.2)\n",
    "\n",
    "forest_model.fit(X_train, y_train)\n",
    "\n",
    "forest_y_pred: np.ndarray = forest_model.predict(X_train)\n",
    "print_metrics(y_train, forest_y_pred, \"KNOWN\")\n",
    "\n",
    "forest_y_pred: np.ndarray = forest_model.predict(X_valid)\n",
    "print_metrics(y_valid, forest_y_pred, \"NEW\")"
   ]
  },
  {
   "cell_type": "markdown",
   "metadata": {},
   "source": [
    "##### 3.3. Linear Regressor"
   ]
  },
  {
   "cell_type": "code",
   "execution_count": 121,
   "metadata": {},
   "outputs": [
    {
     "name": "stdout",
     "output_type": "stream",
     "text": [
      "Mean Squared Error, Root Mean Squared Error, Mean Absolute Error (perfect = 0.0)\n",
      "KNOWN DATA: MSE: 34118.12093391345\n",
      "KNOWN DATA: RMSE: 165.68850079534394\n",
      "KNOWN DATA: MAE: 140.75140784601382\n",
      "\n",
      "Mean Squared Error, Root Mean Squared Error, Mean Absolute Error (perfect = 0.0)\n",
      "NEW DATA: MSE: 31545.353160031467\n",
      "NEW DATA: RMSE: 157.60853103398122\n",
      "NEW DATA: MAE: 134.06559680626225\n",
      "\n"
     ]
    }
   ],
   "source": [
    "from sklearn.linear_model import LinearRegression\n",
    "\n",
    "linear_model = LinearRegression()\n",
    "\n",
    "linear_model.fit(X_train, y_train)\n",
    "\n",
    "linear_y_pred: np.ndarray = linear_model.predict(X_train)\n",
    "print_metrics(y_train, linear_y_pred, \"KNOWN\")\n",
    "\n",
    "linear_y_pred: np.ndarray = linear_model.predict(X_valid)\n",
    "print_metrics(y_valid, linear_y_pred, \"NEW\")"
   ]
  },
  {
   "cell_type": "markdown",
   "metadata": {},
   "source": [
    "##### 3.4. Nearest Neighbour Regressor"
   ]
  },
  {
   "cell_type": "code",
   "execution_count": 122,
   "metadata": {},
   "outputs": [
    {
     "name": "stdout",
     "output_type": "stream",
     "text": [
      "Mean Squared Error, Root Mean Squared Error, Mean Absolute Error (perfect = 0.0)\n",
      "KNOWN DATA: MSE: 26414.827752691675\n",
      "KNOWN DATA: RMSE: 145.38858181886513\n",
      "KNOWN DATA: MAE: 119.16325077791825\n",
      "\n",
      "Mean Squared Error, Root Mean Squared Error, Mean Absolute Error (perfect = 0.0)\n",
      "NEW DATA: MSE: 39761.7333372892\n",
      "NEW DATA: RMSE: 177.06280238977783\n",
      "NEW DATA: MAE: 152.70546441885142\n",
      "\n"
     ]
    }
   ],
   "source": [
    "from sklearn.neighbors import KNeighborsRegressor\n",
    "\n",
    "neighbour_model = KNeighborsRegressor()\n",
    "\n",
    "neighbour_model.fit(X_train, y_train)\n",
    "\n",
    "neighbour_y_pred: np.ndarray = neighbour_model.predict(X_train)\n",
    "print_metrics(y_train, neighbour_y_pred, \"KNOWN\")\n",
    "\n",
    "neighbour_y_pred: np.ndarray = neighbour_model.predict(X_valid)\n",
    "print_metrics(y_valid, neighbour_y_pred, \"NEW\")"
   ]
  },
  {
   "cell_type": "markdown",
   "metadata": {},
   "source": [
    "##### 3.5. Multi-Layer Perceptron (MLP) Regressor"
   ]
  },
  {
   "cell_type": "code",
   "execution_count": 123,
   "metadata": {},
   "outputs": [
    {
     "name": "stdout",
     "output_type": "stream",
     "text": [
      "Mean Squared Error, Root Mean Squared Error, Mean Absolute Error (perfect = 0.0)\n",
      "KNOWN DATA: MSE: 66977.3782916429\n",
      "KNOWN DATA: RMSE: 228.0570859349259\n",
      "KNOWN DATA: MAE: 181.0006193839465\n",
      "\n",
      "Mean Squared Error, Root Mean Squared Error, Mean Absolute Error (perfect = 0.0)\n",
      "NEW DATA: MSE: 57612.60579089132\n",
      "NEW DATA: RMSE: 206.0266477391596\n",
      "NEW DATA: MAE: 169.13270158142888\n",
      "\n"
     ]
    }
   ],
   "source": [
    "from sklearn.neural_network import MLPRegressor\n",
    "\n",
    "mlp_model = MLPRegressor()\n",
    "\n",
    "mlp_model.fit(X_train, y_train)\n",
    "\n",
    "mlp_y_pred: np.ndarray = mlp_model.predict(X_train)\n",
    "print_metrics(y_train, mlp_y_pred, \"KNOWN\")\n",
    "\n",
    "mlp_y_pred: np.ndarray = mlp_model.predict(X_valid)\n",
    "print_metrics(y_valid, mlp_y_pred, \"NEW\")"
   ]
  },
  {
   "cell_type": "code",
   "execution_count": 124,
   "metadata": {},
   "outputs": [],
   "source": [
    "from sktime.forecasting.naive import NaiveForecaster\n",
    "from sktime.forecasting.neuralforecast import NeuralForecastRNN\n",
    "\n",
    "import prophet"
   ]
  },
  {
   "cell_type": "code",
   "execution_count": 125,
   "metadata": {},
   "outputs": [],
   "source": [
    "naive_model = NaiveForecaster(strategy=\"last\")\n",
    "\n"
   ]
  },
  {
   "cell_type": "code",
   "execution_count": 126,
   "metadata": {},
   "outputs": [],
   "source": [
    "rnn_model = NeuralForecastRNN()"
   ]
  },
  {
   "cell_type": "code",
   "execution_count": null,
   "metadata": {},
   "outputs": [],
   "source": []
  }
 ],
 "metadata": {
  "kernelspec": {
   "display_name": "Python 3",
   "language": "python",
   "name": "python3"
  },
  "language_info": {
   "codemirror_mode": {
    "name": "ipython",
    "version": 3
   },
   "file_extension": ".py",
   "mimetype": "text/x-python",
   "name": "python",
   "nbconvert_exporter": "python",
   "pygments_lexer": "ipython3",
   "version": "3.10.12"
  }
 },
 "nbformat": 4,
 "nbformat_minor": 2
}
